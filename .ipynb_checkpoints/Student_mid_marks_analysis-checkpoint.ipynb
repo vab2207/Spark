{
 "cells": [
  {
   "cell_type": "code",
   "execution_count": 1,
   "id": "87393eb6-d171-4dd1-829b-477a7ee22e04",
   "metadata": {},
   "outputs": [
    {
     "name": "stdout",
     "output_type": "stream",
     "text": [
      "+----+-------+---+----+---+----+---+----+\n",
      "|S.NO|SECTION| DV|M-II| PP|BEEE| FL|FIMS|\n",
      "+----+-------+---+----+---+----+---+----+\n",
      "|   1|  ALPHA| 12|   0| 17|   9| 19|  15|\n",
      "|   2|  ALPHA| 19|  12| 16|  16| 18|   3|\n",
      "|   3|  ALPHA| 18|  14| 18|  18| 18|  16|\n",
      "|   4|  ALPHA| 15|   9| 19|  17| 19|  15|\n",
      "|   5|  ALPHA| 18|  17| 19|  19| 20|  18|\n",
      "+----+-------+---+----+---+----+---+----+\n",
      "only showing top 5 rows\n"
     ]
    }
   ],
   "source": [
    "from pyspark.sql import SparkSession\n",
    "\n",
    "# Start Spark\n",
    "spark = SparkSession.builder.appName(\"MidMarksAnalysis\").getOrCreate()\n",
    "\n",
    "# Load CSV\n",
    "df = spark.read.csv(\"MIDMARKS.csv\", header=True, inferSchema=True)\n",
    "\n",
    "# Show sample\n",
    "df.show(5)\n"
   ]
  },
  {
   "cell_type": "code",
   "execution_count": 8,
   "id": "5d22b2d1-12b6-43cc-be2f-8ae72e5f637b",
   "metadata": {},
   "outputs": [
    {
     "name": "stdout",
     "output_type": "stream",
     "text": [
      "root\n",
      " |-- SNO: integer (nullable = true)\n",
      " |-- SECTION: string (nullable = true)\n",
      " |-- DV: string (nullable = true)\n",
      " |-- MII: string (nullable = true)\n",
      " |-- PP: string (nullable = true)\n",
      " |-- BEEE: string (nullable = true)\n",
      " |-- FL: string (nullable = true)\n",
      " |-- FIMS: string (nullable = true)\n",
      "\n",
      "-----------------------\n",
      "+-------+------------------+-------+------------------+------------------+------------------+------------------+------------------+------------------+\n",
      "|summary|               SNO|SECTION|                DV|               MII|                PP|              BEEE|                FL|              FIMS|\n",
      "+-------+------------------+-------+------------------+------------------+------------------+------------------+------------------+------------------+\n",
      "|  count|               480|    439|               479|               477|               480|               478|               479|               480|\n",
      "|   mean|             240.5|   NULL|14.594017094017094|10.455531453362257|13.158119658119658|13.665217391304347|15.860813704496788|14.043290043290042|\n",
      "| stddev|138.70832707519762|   NULL|4.2875406486016745| 6.270416807932639| 5.634913181568081|5.4609813171354205|3.6686682018262085| 4.143608150075935|\n",
      "|    min|                 1|  ALPHA|                 1|                 0|                 0|                 0|                10|                 0|\n",
      "|    max|               480|   ZETA|                MP|                 o|                MP|                 o|                AB|                Io|\n",
      "+-------+------------------+-------+------------------+------------------+------------------+------------------+------------------+------------------+\n",
      "\n"
     ]
    }
   ],
   "source": [
    "# Schema\n",
    "df.printSchema()\n",
    "\n",
    "df = df.withColumnRenamed(\"S.NO\", \"SNO\") \\\n",
    "       .withColumnRenamed(\"M-II\", \"MII\")\n",
    "print(\"-----------------------\")\n",
    "df.describe().show()\n"
   ]
  },
  {
   "cell_type": "code",
   "execution_count": 9,
   "id": "ea847f2c-141f-44a7-af1d-776082e06b4f",
   "metadata": {},
   "outputs": [
    {
     "name": "stdout",
     "output_type": "stream",
     "text": [
      "+---+-------+---+---+---+----+---+----+\n",
      "|SNO|SECTION| DV|MII| PP|BEEE| FL|FIMS|\n",
      "+---+-------+---+---+---+----+---+----+\n",
      "|  0|     41|  1|  3|  0|   2|  1|   0|\n",
      "+---+-------+---+---+---+----+---+----+\n",
      "\n"
     ]
    }
   ],
   "source": [
    "from pyspark.sql.functions import col, sum\n",
    "null_counts = df.select([sum(col(c).isNull().cast(\"int\")).alias(c) for c in df.columns])\n",
    "null_counts.show()\n",
    "\n"
   ]
  },
  {
   "cell_type": "code",
   "execution_count": 13,
   "id": "27ac843d-16b7-4e24-adf5-c33f1f64c6c4",
   "metadata": {},
   "outputs": [
    {
     "name": "stdout",
     "output_type": "stream",
     "text": [
      "+-------+------------------+-------+------------------+------------------+------------------+------------------+------------------+------------------+\n",
      "|summary|SNO               |SECTION|DV                |MII               |PP                |BEEE              |FL                |FIMS              |\n",
      "+-------+------------------+-------+------------------+------------------+------------------+------------------+------------------+------------------+\n",
      "|count  |480               |439    |479               |477               |480               |478               |479               |480               |\n",
      "|mean   |240.5             |NULL   |14.594017094017094|10.455531453362257|13.158119658119658|13.665217391304347|15.860813704496788|14.043290043290042|\n",
      "|stddev |138.70832707519762|NULL   |4.2875406486016745|6.270416807932639 |5.634913181568081 |5.4609813171354205|3.6686682018262085|4.143608150075935 |\n",
      "|min    |1                 |ALPHA  |1                 |0                 |0                 |0                 |10                |0                 |\n",
      "|max    |480               |ZETA   |MP                |o                 |MP                |o                 |AB                |Io                |\n",
      "+-------+------------------+-------+------------------+------------------+------------------+------------------+------------------+------------------+\n",
      "\n",
      "+-------+------------------+-------+------------------+------------------+------------------+------------------+------------------+------------------+\n",
      "|summary|SNO               |SECTION|DV                |MII               |PP                |BEEE              |FL                |FIMS              |\n",
      "+-------+------------------+-------+------------------+------------------+------------------+------------------+------------------+------------------+\n",
      "|count  |480               |439    |479               |477               |480               |478               |479               |480               |\n",
      "|mean   |240.5             |NULL   |14.594017094017094|10.455531453362257|13.158119658119658|13.665217391304347|15.860813704496788|14.043290043290042|\n",
      "|stddev |138.70832707519762|NULL   |4.2875406486016745|6.270416807932639 |5.634913181568081 |5.4609813171354205|3.6686682018262085|4.143608150075935 |\n",
      "|min    |1                 |ALPHA  |1                 |0                 |0                 |0                 |10                |0                 |\n",
      "|25%    |120               |NULL   |12.0              |5.0               |9.0               |10.0              |13.0              |12.0              |\n",
      "|50%    |240               |NULL   |16.0              |11.0              |14.0              |15.0              |16.0              |15.0              |\n",
      "|75%    |360               |NULL   |18.0              |16.0              |18.0              |19.0              |20.0              |17.0              |\n",
      "|max    |480               |ZETA   |MP                |o                 |MP                |o                 |AB                |Io                |\n",
      "+-------+------------------+-------+------------------+------------------+------------------+------------------+------------------+------------------+\n",
      "\n"
     ]
    }
   ],
   "source": [
    "df.describe().show(truncate=False)\n",
    "df.summary().show(truncate=False)"
   ]
  },
  {
   "cell_type": "code",
   "execution_count": 14,
   "id": "f48f44cb-f9e6-4ed0-9422-a22848ca38dd",
   "metadata": {},
   "outputs": [],
   "source": [
    "# Cleaning dataset"
   ]
  },
  {
   "cell_type": "code",
   "execution_count": 15,
   "id": "c043163c-78ad-4db4-a6d4-383864d2b362",
   "metadata": {},
   "outputs": [
    {
     "name": "stdout",
     "output_type": "stream",
     "text": [
      "+-------+-----+\n",
      "|Section|count|\n",
      "+-------+-----+\n",
      "|   GAMA|    1|\n",
      "|   ZETA|   19|\n",
      "|   SGMA|    1|\n",
      "|   NULL|   41|\n",
      "|   BETA|   60|\n",
      "|  OMEGA|   60|\n",
      "|EPSILON|   60|\n",
      "|  SIGMA|   59|\n",
      "|  ALPHA|   60|\n",
      "|  GAMMA|   59|\n",
      "|  DELTA|   60|\n",
      "+-------+-----+\n",
      "\n"
     ]
    }
   ],
   "source": [
    "df.groupBy(\"Section\").count().show()"
   ]
  },
  {
   "cell_type": "code",
   "execution_count": 17,
   "id": "af46f582-6fe6-46b3-bba5-3f7c5b788665",
   "metadata": {},
   "outputs": [],
   "source": [
    "df = df.na.fill({\"Section\":\"ZETA\"})"
   ]
  },
  {
   "cell_type": "code",
   "execution_count": 18,
   "id": "30f45a28-efac-45e6-b03f-572a8948ad02",
   "metadata": {},
   "outputs": [
    {
     "name": "stdout",
     "output_type": "stream",
     "text": [
      "+-------+-----+\n",
      "|Section|count|\n",
      "+-------+-----+\n",
      "|   GAMA|    1|\n",
      "|   ZETA|   60|\n",
      "|   SGMA|    1|\n",
      "|   BETA|   60|\n",
      "|  OMEGA|   60|\n",
      "|EPSILON|   60|\n",
      "|  SIGMA|   59|\n",
      "|  ALPHA|   60|\n",
      "|  GAMMA|   59|\n",
      "|  DELTA|   60|\n",
      "+-------+-----+\n",
      "\n"
     ]
    }
   ],
   "source": [
    "df.groupBy(\"Section\").count().show()"
   ]
  },
  {
   "cell_type": "code",
   "execution_count": 19,
   "id": "18cadc06-1e87-432b-a150-1d0145e9870e",
   "metadata": {},
   "outputs": [],
   "source": [
    "from pyspark.sql.functions import when, col\n",
    "\n",
    "df = df.withColumn(\n",
    "    \"SECTION\",\n",
    "    when(col(\"SECTION\") == \"SGMA\",\"SIGMA\")\n",
    "    .when(col(\"SECTION\") == \"GAMMA\", \"GAMA\")\n",
    "    .otherwise(col(\"SECTION\"))\n",
    ")"
   ]
  },
  {
   "cell_type": "code",
   "execution_count": 21,
   "id": "242267f3-177e-4011-848b-8e4ee09571d1",
   "metadata": {},
   "outputs": [],
   "source": [
    "df = df.withColumn(\n",
    "    \"DV\",\n",
    "    when(col(\"DV\") == \"A\",0)\n",
    "    .when(col(\"DV\") == \"o\",0)\n",
    "    .otherwise(col(\"DV\"))\n",
    ")"
   ]
  },
  {
   "cell_type": "code",
   "execution_count": 22,
   "id": "468ec8d7-31c8-4e2d-b82b-5a5356470a74",
   "metadata": {},
   "outputs": [],
   "source": [
    "df = df.na.fill({\"DV\":\"0\"})"
   ]
  },
  {
   "cell_type": "code",
   "execution_count": 23,
   "id": "fbb11b19-e6ae-4ae3-a3fa-884a6775f739",
   "metadata": {},
   "outputs": [
    {
     "name": "stdout",
     "output_type": "stream",
     "text": [
      "+-------+-----+\n",
      "|Section|count|\n",
      "+-------+-----+\n",
      "|   GAMA|   60|\n",
      "|   ZETA|   60|\n",
      "|   BETA|   60|\n",
      "|  OMEGA|   60|\n",
      "|EPSILON|   60|\n",
      "|  SIGMA|   60|\n",
      "|  ALPHA|   60|\n",
      "|  DELTA|   60|\n",
      "+-------+-----+\n",
      "\n"
     ]
    }
   ],
   "source": [
    "df.groupBy(\"Section\").count().show()"
   ]
  },
  {
   "cell_type": "code",
   "execution_count": 25,
   "id": "d33f2bfb-6c00-4271-a5a4-15d6a47d5d21",
   "metadata": {},
   "outputs": [
    {
     "name": "stdout",
     "output_type": "stream",
     "text": [
      "+-------+-----+\n",
      "|Section|count|\n",
      "+-------+-----+\n",
      "|   GAMA|   60|\n",
      "|   ZETA|   60|\n",
      "|   BETA|   60|\n",
      "|  OMEGA|   60|\n",
      "|EPSILON|   60|\n",
      "|  SIGMA|   60|\n",
      "|  ALPHA|   60|\n",
      "|  DELTA|   60|\n",
      "+-------+-----+\n",
      "\n"
     ]
    }
   ],
   "source": [
    "df.groupBy(\"Section\").count().show()"
   ]
  },
  {
   "cell_type": "code",
   "execution_count": 26,
   "id": "6b2a15a6-88a8-4487-990d-3c6b0f440121",
   "metadata": {},
   "outputs": [
    {
     "name": "stdout",
     "output_type": "stream",
     "text": [
      "Rows: 480\n",
      "Columns: 8\n"
     ]
    }
   ],
   "source": [
    "# Number of rows & columns\n",
    "print(\"Rows:\", df.count())\n",
    "print(\"Columns:\", len(df.columns))"
   ]
  },
  {
   "cell_type": "code",
   "execution_count": 27,
   "id": "5a5066b2-43cd-4698-8d98-7cc2c50e1031",
   "metadata": {},
   "outputs": [
    {
     "name": "stdout",
     "output_type": "stream",
     "text": [
      "+-------+-----+\n",
      "|SECTION|count|\n",
      "+-------+-----+\n",
      "|   GAMA|   60|\n",
      "|   ZETA|   60|\n",
      "|   BETA|   60|\n",
      "|  OMEGA|   60|\n",
      "|EPSILON|   60|\n",
      "|  SIGMA|   60|\n",
      "|  ALPHA|   60|\n",
      "|  DELTA|   60|\n",
      "+-------+-----+\n",
      "\n"
     ]
    }
   ],
   "source": [
    "df.groupBy(\"SECTION\").count().orderBy(\"count\", ascending=False).show()"
   ]
  },
  {
   "cell_type": "code",
   "execution_count": 31,
   "id": "83ca8966-510e-4c59-9c21-9e5b9a82793f",
   "metadata": {},
   "outputs": [],
   "source": [
    "from pyspark.sql.functions import expr\n",
    "\n",
    "subjects = [\"DV\", \"MII\", \"PP\", \"BEEE\", \"FL\", \"FIMS\"]\n",
    "\n",
    "# Try casting each subject column to int, invalid values become NULL\n",
    "for i in subjects:\n",
    "    df = df.withColumn(i, expr(f\"try_cast({i} as int)\"))\n"
   ]
  },
  {
   "cell_type": "code",
   "execution_count": 32,
   "id": "d5a208a6-4dc8-4e73-9fb0-a739749051b5",
   "metadata": {},
   "outputs": [
    {
     "name": "stdout",
     "output_type": "stream",
     "text": [
      "+---+---+----+----+---+----+\n",
      "| DV|MII|  PP|BEEE| FL|FIMS|\n",
      "+---+---+----+----+---+----+\n",
      "| 12|  0|  17|   9| 19|  15|\n",
      "| 19| 12|  16|  16| 18|   3|\n",
      "| 18| 14|  18|  18| 18|  16|\n",
      "| 15|  9|  19|  17| 19|  15|\n",
      "| 18| 17|  19|  19| 20|  18|\n",
      "| 17| 16|  18|  10| 15|   9|\n",
      "| 15| 10|  20|  20| 15|  14|\n",
      "| 17| 17|  19|  20| 19|  13|\n",
      "| 10| 18|NULL|  20| 19|  15|\n",
      "| 18| 19|  20|  20| 20|  15|\n",
      "+---+---+----+----+---+----+\n",
      "only showing top 10 rows\n"
     ]
    }
   ],
   "source": [
    "df.select(subjects).show(10)\n"
   ]
  },
  {
   "cell_type": "code",
   "execution_count": 33,
   "id": "ab0ea3ae-c6f1-44c4-81b7-232980a56d8e",
   "metadata": {},
   "outputs": [],
   "source": [
    "df = df.na.fill({\"PP\":\"0\"})"
   ]
  },
  {
   "cell_type": "code",
   "execution_count": 37,
   "id": "16c60afd-c291-4218-8ef2-ef77fccbd541",
   "metadata": {},
   "outputs": [],
   "source": [
    "df = df.na.fill({\"BEEE\":\"0\"})\n",
    "df = df.na.fill({\"PP\":\"0\"})\n",
    "df = df.na.fill({\"FL\":\"0\"})\n",
    "df = df.na.fill({\"FIMS\":\"0\"})\n",
    "df = df.na.fill({\"DV\":\"0\"})\n",
    "df = df.na.fill({\"MII\":\"0\"})"
   ]
  },
  {
   "cell_type": "code",
   "execution_count": 38,
   "id": "78c3e761-91a8-4c53-a09b-b4335f31dc92",
   "metadata": {},
   "outputs": [
    {
     "name": "stdout",
     "output_type": "stream",
     "text": [
      "+---+---+---+----+---+----+\n",
      "| DV|MII| PP|BEEE| FL|FIMS|\n",
      "+---+---+---+----+---+----+\n",
      "| 12|  0| 17|   9| 19|  15|\n",
      "| 19| 12| 16|  16| 18|   3|\n",
      "| 18| 14| 18|  18| 18|  16|\n",
      "| 15|  9| 19|  17| 19|  15|\n",
      "| 18| 17| 19|  19| 20|  18|\n",
      "| 17| 16| 18|  10| 15|   9|\n",
      "| 15| 10| 20|  20| 15|  14|\n",
      "| 17| 17| 19|  20| 19|  13|\n",
      "| 10| 18|  0|  20| 19|  15|\n",
      "| 18| 19| 20|  20| 20|  15|\n",
      "+---+---+---+----+---+----+\n",
      "only showing top 10 rows\n"
     ]
    }
   ],
   "source": [
    "df.select(subjects).show(10)"
   ]
  },
  {
   "cell_type": "code",
   "execution_count": 40,
   "id": "d0325b8a-49b0-4b06-ad5d-555e572a5dfb",
   "metadata": {},
   "outputs": [],
   "source": [
    "from pyspark.sql.functions import coalesce, lit\n",
    "\n",
    "for subj in subjects:\n",
    "    df = df.withColumn(subj, coalesce(df[subj], lit(0)))"
   ]
  },
  {
   "cell_type": "code",
   "execution_count": 50,
   "id": "846631be-0199-45d2-a4fc-8d9ec8926902",
   "metadata": {},
   "outputs": [],
   "source": [
    "from pyspark.sql.functions import expr\n",
    "\n",
    "df = df.withColumn(\"SNO_int\", expr(\"try_cast(SNO as int)\"))"
   ]
  },
  {
   "cell_type": "code",
   "execution_count": 51,
   "id": "79c91684-4105-48d7-80bd-8512fe42ee2e",
   "metadata": {},
   "outputs": [
    {
     "name": "stdout",
     "output_type": "stream",
     "text": [
      "+---+-------+\n",
      "|SNO|SNO_int|\n",
      "+---+-------+\n",
      "|  1|      1|\n",
      "|  2|      2|\n",
      "|  3|      3|\n",
      "|  4|      4|\n",
      "|  5|      5|\n",
      "|  6|      6|\n",
      "|  7|      7|\n",
      "|  8|      8|\n",
      "|  9|      9|\n",
      "| 10|     10|\n",
      "+---+-------+\n",
      "only showing top 10 rows\n"
     ]
    }
   ],
   "source": [
    "df.select(\"SNO\", \"SNO_int\").show(10)\n"
   ]
  },
  {
   "cell_type": "code",
   "execution_count": 52,
   "id": "f5a979a2-2b4f-40e6-a952-b9933303bdd2",
   "metadata": {},
   "outputs": [
    {
     "data": {
      "text/plain": [
       "[('SNO', 'int'),\n",
       " ('SECTION', 'string'),\n",
       " ('DV', 'int'),\n",
       " ('MII', 'int'),\n",
       " ('PP', 'int'),\n",
       " ('BEEE', 'int'),\n",
       " ('FL', 'int'),\n",
       " ('FIMS', 'int'),\n",
       " ('SNO_int', 'int')]"
      ]
     },
     "execution_count": 52,
     "metadata": {},
     "output_type": "execute_result"
    }
   ],
   "source": [
    "df.dtypes"
   ]
  },
  {
   "cell_type": "code",
   "execution_count": 24,
   "id": "cb1763cf-debe-40f3-bc08-6cea56145ac4",
   "metadata": {},
   "outputs": [],
   "source": [
    "# Done with data cleaning"
   ]
  },
  {
   "cell_type": "code",
   "execution_count": 53,
   "id": "721bd150-4ec0-41dc-a78f-bc30935b8fb2",
   "metadata": {},
   "outputs": [
    {
     "name": "stderr",
     "output_type": "stream",
     "text": [
      "{\"ts\": \"2025-09-23 07:28:58.478\", \"level\": \"ERROR\", \"logger\": \"DataFrameQueryContextLogger\", \"msg\": \"[CAST_INVALID_INPUT] The value 'MP' of the type \\\"STRING\\\" cannot be cast to \\\"BIGINT\\\" because it is malformed. Correct the value as per the syntax, or change its target type. Use `try_cast` to tolerate malformed input and return NULL instead. SQLSTATE: 22018\", \"context\": {\"file\": \"line 5 in cell [21]\", \"line\": \"\", \"fragment\": \"otherwise\", \"errorClass\": \"CAST_INVALID_INPUT\"}, \"exception\": {\"class\": \"Py4JJavaError\", \"msg\": \"An error occurred while calling o481.showString.\\n: org.apache.spark.SparkNumberFormatException: [CAST_INVALID_INPUT] The value 'MP' of the type \\\"STRING\\\" cannot be cast to \\\"BIGINT\\\" because it is malformed. Correct the value as per the syntax, or change its target type. Use `try_cast` to tolerate malformed input and return NULL instead. SQLSTATE: 22018\\n== DataFrame ==\\n\\\"otherwise\\\" was called from\\nline 5 in cell [21]\\n\\r\\n\\tat org.apache.spark.sql.errors.QueryExecutionErrors$.invalidInputInCastToNumberError(QueryExecutionErrors.scala:145)\\r\\n\\tat org.apache.spark.sql.catalyst.util.UTF8StringUtils$.withException(UTF8StringUtils.scala:51)\\r\\n\\tat org.apache.spark.sql.catalyst.util.UTF8StringUtils$.toLongExact(UTF8StringUtils.scala:31)\\r\\n\\tat org.apache.spark.sql.catalyst.util.UTF8StringUtils.toLongExact(UTF8StringUtils.scala)\\r\\n\\tat org.apache.spark.sql.catalyst.expressions.GeneratedClass$GeneratedIteratorForCodegenStage1.processNext(Unknown Source)\\r\\n\\tat org.apache.spark.sql.execution.BufferedRowIterator.hasNext(BufferedRowIterator.java:43)\\r\\n\\tat org.apache.spark.sql.execution.WholeStageCodegenEvaluatorFactory$WholeStageCodegenPartitionEvaluator$$anon$1.hasNext(WholeStageCodegenEvaluatorFactory.scala:50)\\r\\n\\tat org.apache.spark.sql.execution.aggregate.SortBasedAggregationIterator.processCurrentSortedGroup(SortBasedAggregationIterator.scala:130)\\r\\n\\tat org.apache.spark.sql.execution.aggregate.SortBasedAggregationIterator.next(SortBasedAggregationIterator.scala:161)\\r\\n\\tat org.apache.spark.sql.execution.aggregate.SortBasedAggregationIterator.next(SortBasedAggregationIterator.scala:31)\\r\\n\\tat scala.collection.Iterator$$anon$9.next(Iterator.scala:584)\\r\\n\\tat org.apache.spark.shuffle.sort.BypassMergeSortShuffleWriter.write(BypassMergeSortShuffleWriter.java:172)\\r\\n\\tat org.apache.spark.shuffle.ShuffleWriteProcessor.write(ShuffleWriteProcessor.scala:57)\\r\\n\\tat org.apache.spark.scheduler.ShuffleMapTask.runTask(ShuffleMapTask.scala:111)\\r\\n\\tat org.apache.spark.scheduler.ShuffleMapTask.runTask(ShuffleMapTask.scala:54)\\r\\n\\tat org.apache.spark.TaskContext.runTaskWithListeners(TaskContext.scala:171)\\r\\n\\tat org.apache.spark.scheduler.Task.run(Task.scala:147)\\r\\n\\tat org.apache.spark.executor.Executor$TaskRunner.$anonfun$run$5(Executor.scala:647)\\r\\n\\tat org.apache.spark.util.SparkErrorUtils.tryWithSafeFinally(SparkErrorUtils.scala:80)\\r\\n\\tat org.apache.spark.util.SparkErrorUtils.tryWithSafeFinally$(SparkErrorUtils.scala:77)\\r\\n\\tat org.apache.spark.util.Utils$.tryWithSafeFinally(Utils.scala:99)\\r\\n\\tat org.apache.spark.executor.Executor$TaskRunner.run(Executor.scala:650)\\r\\n\\tat java.base/java.util.concurrent.ThreadPoolExecutor.runWorker(ThreadPoolExecutor.java:1136)\\r\\n\\tat java.base/java.util.concurrent.ThreadPoolExecutor$Worker.run(ThreadPoolExecutor.java:635)\\r\\n\\tat java.base/java.lang.Thread.run(Thread.java:842)\\r\\n\", \"stacktrace\": [{\"class\": null, \"method\": \"deco\", \"file\": \"C:\\\\Users\\\\adity\\\\anaconda3\\\\Lib\\\\site-packages\\\\pyspark\\\\errors\\\\exceptions\\\\captured.py\", \"line\": \"282\"}, {\"class\": null, \"method\": \"get_return_value\", \"file\": \"C:\\\\Users\\\\adity\\\\anaconda3\\\\Lib\\\\site-packages\\\\py4j\\\\protocol.py\", \"line\": \"327\"}]}}\n"
     ]
    },
    {
     "ename": "NumberFormatException",
     "evalue": "[CAST_INVALID_INPUT] The value 'MP' of the type \"STRING\" cannot be cast to \"BIGINT\" because it is malformed. Correct the value as per the syntax, or change its target type. Use `try_cast` to tolerate malformed input and return NULL instead. SQLSTATE: 22018\n== DataFrame ==\n\"otherwise\" was called from\nline 5 in cell [21]\n",
     "output_type": "error",
     "traceback": [
      "\u001b[1;31m---------------------------------------------------------------------------\u001b[0m",
      "\u001b[1;31mNumberFormatException\u001b[0m                     Traceback (most recent call last)",
      "Cell \u001b[1;32mIn[53], line 4\u001b[0m\n\u001b[0;32m      1\u001b[0m \u001b[38;5;28;01mfrom\u001b[39;00m\u001b[38;5;250m \u001b[39m\u001b[38;5;21;01mpyspark\u001b[39;00m\u001b[38;5;21;01m.\u001b[39;00m\u001b[38;5;21;01msql\u001b[39;00m\u001b[38;5;21;01m.\u001b[39;00m\u001b[38;5;21;01mfunctions\u001b[39;00m\u001b[38;5;250m \u001b[39m\u001b[38;5;28;01mimport\u001b[39;00m col, avg, \u001b[38;5;28mmin\u001b[39m, \u001b[38;5;28mmax\u001b[39m\n\u001b[0;32m      3\u001b[0m \u001b[38;5;66;03m# Summary stats for all numeric columns\u001b[39;00m\n\u001b[1;32m----> 4\u001b[0m df\u001b[38;5;241m.\u001b[39mdescribe()\u001b[38;5;241m.\u001b[39mshow()\n\u001b[0;32m      6\u001b[0m \u001b[38;5;66;03m# More precise summary\u001b[39;00m\n\u001b[0;32m      7\u001b[0m numeric_cols \u001b[38;5;241m=\u001b[39m [c \u001b[38;5;28;01mfor\u001b[39;00m c, t \u001b[38;5;129;01min\u001b[39;00m df\u001b[38;5;241m.\u001b[39mdtypes \u001b[38;5;28;01mif\u001b[39;00m t \u001b[38;5;129;01min\u001b[39;00m (\u001b[38;5;124m'\u001b[39m\u001b[38;5;124mint\u001b[39m\u001b[38;5;124m'\u001b[39m, \u001b[38;5;124m'\u001b[39m\u001b[38;5;124mdouble\u001b[39m\u001b[38;5;124m'\u001b[39m, \u001b[38;5;124m'\u001b[39m\u001b[38;5;124mbigint\u001b[39m\u001b[38;5;124m'\u001b[39m)]\n",
      "File \u001b[1;32m~\\anaconda3\\Lib\\site-packages\\pyspark\\sql\\classic\\dataframe.py:285\u001b[0m, in \u001b[0;36mDataFrame.show\u001b[1;34m(self, n, truncate, vertical)\u001b[0m\n\u001b[0;32m    284\u001b[0m \u001b[38;5;28;01mdef\u001b[39;00m\u001b[38;5;250m \u001b[39m\u001b[38;5;21mshow\u001b[39m(\u001b[38;5;28mself\u001b[39m, n: \u001b[38;5;28mint\u001b[39m \u001b[38;5;241m=\u001b[39m \u001b[38;5;241m20\u001b[39m, truncate: Union[\u001b[38;5;28mbool\u001b[39m, \u001b[38;5;28mint\u001b[39m] \u001b[38;5;241m=\u001b[39m \u001b[38;5;28;01mTrue\u001b[39;00m, vertical: \u001b[38;5;28mbool\u001b[39m \u001b[38;5;241m=\u001b[39m \u001b[38;5;28;01mFalse\u001b[39;00m) \u001b[38;5;241m-\u001b[39m\u001b[38;5;241m>\u001b[39m \u001b[38;5;28;01mNone\u001b[39;00m:\n\u001b[1;32m--> 285\u001b[0m     \u001b[38;5;28mprint\u001b[39m(\u001b[38;5;28mself\u001b[39m\u001b[38;5;241m.\u001b[39m_show_string(n, truncate, vertical))\n",
      "File \u001b[1;32m~\\anaconda3\\Lib\\site-packages\\pyspark\\sql\\classic\\dataframe.py:303\u001b[0m, in \u001b[0;36mDataFrame._show_string\u001b[1;34m(self, n, truncate, vertical)\u001b[0m\n\u001b[0;32m    297\u001b[0m     \u001b[38;5;28;01mraise\u001b[39;00m PySparkTypeError(\n\u001b[0;32m    298\u001b[0m         errorClass\u001b[38;5;241m=\u001b[39m\u001b[38;5;124m\"\u001b[39m\u001b[38;5;124mNOT_BOOL\u001b[39m\u001b[38;5;124m\"\u001b[39m,\n\u001b[0;32m    299\u001b[0m         messageParameters\u001b[38;5;241m=\u001b[39m{\u001b[38;5;124m\"\u001b[39m\u001b[38;5;124marg_name\u001b[39m\u001b[38;5;124m\"\u001b[39m: \u001b[38;5;124m\"\u001b[39m\u001b[38;5;124mvertical\u001b[39m\u001b[38;5;124m\"\u001b[39m, \u001b[38;5;124m\"\u001b[39m\u001b[38;5;124marg_type\u001b[39m\u001b[38;5;124m\"\u001b[39m: \u001b[38;5;28mtype\u001b[39m(vertical)\u001b[38;5;241m.\u001b[39m\u001b[38;5;18m__name__\u001b[39m},\n\u001b[0;32m    300\u001b[0m     )\n\u001b[0;32m    302\u001b[0m \u001b[38;5;28;01mif\u001b[39;00m \u001b[38;5;28misinstance\u001b[39m(truncate, \u001b[38;5;28mbool\u001b[39m) \u001b[38;5;129;01mand\u001b[39;00m truncate:\n\u001b[1;32m--> 303\u001b[0m     \u001b[38;5;28;01mreturn\u001b[39;00m \u001b[38;5;28mself\u001b[39m\u001b[38;5;241m.\u001b[39m_jdf\u001b[38;5;241m.\u001b[39mshowString(n, \u001b[38;5;241m20\u001b[39m, vertical)\n\u001b[0;32m    304\u001b[0m \u001b[38;5;28;01melse\u001b[39;00m:\n\u001b[0;32m    305\u001b[0m     \u001b[38;5;28;01mtry\u001b[39;00m:\n",
      "File \u001b[1;32m~\\anaconda3\\Lib\\site-packages\\py4j\\java_gateway.py:1362\u001b[0m, in \u001b[0;36mJavaMember.__call__\u001b[1;34m(self, *args)\u001b[0m\n\u001b[0;32m   1356\u001b[0m command \u001b[38;5;241m=\u001b[39m proto\u001b[38;5;241m.\u001b[39mCALL_COMMAND_NAME \u001b[38;5;241m+\u001b[39m\\\n\u001b[0;32m   1357\u001b[0m     \u001b[38;5;28mself\u001b[39m\u001b[38;5;241m.\u001b[39mcommand_header \u001b[38;5;241m+\u001b[39m\\\n\u001b[0;32m   1358\u001b[0m     args_command \u001b[38;5;241m+\u001b[39m\\\n\u001b[0;32m   1359\u001b[0m     proto\u001b[38;5;241m.\u001b[39mEND_COMMAND_PART\n\u001b[0;32m   1361\u001b[0m answer \u001b[38;5;241m=\u001b[39m \u001b[38;5;28mself\u001b[39m\u001b[38;5;241m.\u001b[39mgateway_client\u001b[38;5;241m.\u001b[39msend_command(command)\n\u001b[1;32m-> 1362\u001b[0m return_value \u001b[38;5;241m=\u001b[39m get_return_value(\n\u001b[0;32m   1363\u001b[0m     answer, \u001b[38;5;28mself\u001b[39m\u001b[38;5;241m.\u001b[39mgateway_client, \u001b[38;5;28mself\u001b[39m\u001b[38;5;241m.\u001b[39mtarget_id, \u001b[38;5;28mself\u001b[39m\u001b[38;5;241m.\u001b[39mname)\n\u001b[0;32m   1365\u001b[0m \u001b[38;5;28;01mfor\u001b[39;00m temp_arg \u001b[38;5;129;01min\u001b[39;00m temp_args:\n\u001b[0;32m   1366\u001b[0m     \u001b[38;5;28;01mif\u001b[39;00m \u001b[38;5;28mhasattr\u001b[39m(temp_arg, \u001b[38;5;124m\"\u001b[39m\u001b[38;5;124m_detach\u001b[39m\u001b[38;5;124m\"\u001b[39m):\n",
      "File \u001b[1;32m~\\anaconda3\\Lib\\site-packages\\pyspark\\errors\\exceptions\\captured.py:288\u001b[0m, in \u001b[0;36mcapture_sql_exception.<locals>.deco\u001b[1;34m(*a, **kw)\u001b[0m\n\u001b[0;32m    284\u001b[0m converted \u001b[38;5;241m=\u001b[39m convert_exception(e\u001b[38;5;241m.\u001b[39mjava_exception)\n\u001b[0;32m    285\u001b[0m \u001b[38;5;28;01mif\u001b[39;00m \u001b[38;5;129;01mnot\u001b[39;00m \u001b[38;5;28misinstance\u001b[39m(converted, UnknownException):\n\u001b[0;32m    286\u001b[0m     \u001b[38;5;66;03m# Hide where the exception came from that shows a non-Pythonic\u001b[39;00m\n\u001b[0;32m    287\u001b[0m     \u001b[38;5;66;03m# JVM exception message.\u001b[39;00m\n\u001b[1;32m--> 288\u001b[0m     \u001b[38;5;28;01mraise\u001b[39;00m converted \u001b[38;5;28;01mfrom\u001b[39;00m\u001b[38;5;250m \u001b[39m\u001b[38;5;28;01mNone\u001b[39;00m\n\u001b[0;32m    289\u001b[0m \u001b[38;5;28;01melse\u001b[39;00m:\n\u001b[0;32m    290\u001b[0m     \u001b[38;5;28;01mraise\u001b[39;00m\n",
      "\u001b[1;31mNumberFormatException\u001b[0m: [CAST_INVALID_INPUT] The value 'MP' of the type \"STRING\" cannot be cast to \"BIGINT\" because it is malformed. Correct the value as per the syntax, or change its target type. Use `try_cast` to tolerate malformed input and return NULL instead. SQLSTATE: 22018\n== DataFrame ==\n\"otherwise\" was called from\nline 5 in cell [21]\n"
     ]
    }
   ],
   "source": [
    "from pyspark.sql.functions import col, avg, min, max\n",
    "\n",
    "# Summary stats for all numeric columns\n",
    "df.describe().show()\n",
    "\n",
    "# More precise summary\n",
    "numeric_cols = [c for c, t in df.dtypes if t in ('int', 'double', 'bigint')]\n",
    "df.select([avg(col(c)).alias(f\"avg_{c}\") for c in numeric_cols]).show()\n",
    "df.select([min(col(c)).alias(f\"min_{c}\") for c in numeric_cols]).show()\n",
    "df.select([max(col(c)).alias(f\"max_{c}\") for c in numeric_cols]).show()\n"
   ]
  },
  {
   "cell_type": "code",
   "execution_count": null,
   "id": "b8fbbb20-2192-4372-a644-e4c1f05c0e43",
   "metadata": {},
   "outputs": [],
   "source": []
  }
 ],
 "metadata": {
  "kernelspec": {
   "display_name": "Python 3 (ipykernel)",
   "language": "python",
   "name": "python3"
  },
  "language_info": {
   "codemirror_mode": {
    "name": "ipython",
    "version": 3
   },
   "file_extension": ".py",
   "mimetype": "text/x-python",
   "name": "python",
   "nbconvert_exporter": "python",
   "pygments_lexer": "ipython3",
   "version": "3.13.5"
  }
 },
 "nbformat": 4,
 "nbformat_minor": 5
}
