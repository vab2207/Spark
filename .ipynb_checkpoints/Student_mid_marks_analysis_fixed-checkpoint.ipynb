{
 "cells": [
  {
   "cell_type": "code",
   "execution_count": 1,
   "id": "87393eb6-d171-4dd1-829b-477a7ee22e04",
   "metadata": {},
   "outputs": [
    {
     "ename": "AnalysisException",
     "evalue": "[PATH_NOT_FOUND] Path does not exist: file:/C:/Users/adity/Downloads/MIDMARKS.csv. SQLSTATE: 42K03",
     "output_type": "error",
     "traceback": [
      "\u001b[1;31m---------------------------------------------------------------------------\u001b[0m",
      "\u001b[1;31mAnalysisException\u001b[0m                         Traceback (most recent call last)",
      "Cell \u001b[1;32mIn[1], line 7\u001b[0m\n\u001b[0;32m      4\u001b[0m spark \u001b[38;5;241m=\u001b[39m SparkSession\u001b[38;5;241m.\u001b[39mbuilder\u001b[38;5;241m.\u001b[39mappName(\u001b[38;5;124m\"\u001b[39m\u001b[38;5;124mMidMarksAnalysis\u001b[39m\u001b[38;5;124m\"\u001b[39m)\u001b[38;5;241m.\u001b[39mgetOrCreate()\n\u001b[0;32m      6\u001b[0m \u001b[38;5;66;03m# Load CSV\u001b[39;00m\n\u001b[1;32m----> 7\u001b[0m df \u001b[38;5;241m=\u001b[39m spark\u001b[38;5;241m.\u001b[39mread\u001b[38;5;241m.\u001b[39mcsv(\u001b[38;5;124m\"\u001b[39m\u001b[38;5;124mMIDMARKS.csv\u001b[39m\u001b[38;5;124m\"\u001b[39m, header\u001b[38;5;241m=\u001b[39m\u001b[38;5;28;01mTrue\u001b[39;00m, inferSchema\u001b[38;5;241m=\u001b[39m\u001b[38;5;28;01mTrue\u001b[39;00m)\n\u001b[0;32m      9\u001b[0m \u001b[38;5;66;03m# Show sample\u001b[39;00m\n\u001b[0;32m     10\u001b[0m df\u001b[38;5;241m.\u001b[39mshow(\u001b[38;5;241m5\u001b[39m)\n",
      "File \u001b[1;32m~\\anaconda3\\Lib\\site-packages\\pyspark\\sql\\readwriter.py:838\u001b[0m, in \u001b[0;36mDataFrameReader.csv\u001b[1;34m(self, path, schema, sep, encoding, quote, escape, comment, header, inferSchema, ignoreLeadingWhiteSpace, ignoreTrailingWhiteSpace, nullValue, nanValue, positiveInf, negativeInf, dateFormat, timestampFormat, maxColumns, maxCharsPerColumn, maxMalformedLogPerPartition, mode, columnNameOfCorruptRecord, multiLine, charToEscapeQuoteEscaping, samplingRatio, enforceSchema, emptyValue, locale, lineSep, pathGlobFilter, recursiveFileLookup, modifiedBefore, modifiedAfter, unescapedQuoteHandling)\u001b[0m\n\u001b[0;32m    836\u001b[0m \u001b[38;5;28;01mif\u001b[39;00m \u001b[38;5;28mtype\u001b[39m(path) \u001b[38;5;241m==\u001b[39m \u001b[38;5;28mlist\u001b[39m:\n\u001b[0;32m    837\u001b[0m     \u001b[38;5;28;01massert\u001b[39;00m \u001b[38;5;28mself\u001b[39m\u001b[38;5;241m.\u001b[39m_spark\u001b[38;5;241m.\u001b[39m_sc\u001b[38;5;241m.\u001b[39m_jvm \u001b[38;5;129;01mis\u001b[39;00m \u001b[38;5;129;01mnot\u001b[39;00m \u001b[38;5;28;01mNone\u001b[39;00m\n\u001b[1;32m--> 838\u001b[0m     \u001b[38;5;28;01mreturn\u001b[39;00m \u001b[38;5;28mself\u001b[39m\u001b[38;5;241m.\u001b[39m_df(\u001b[38;5;28mself\u001b[39m\u001b[38;5;241m.\u001b[39m_jreader\u001b[38;5;241m.\u001b[39mcsv(\u001b[38;5;28mself\u001b[39m\u001b[38;5;241m.\u001b[39m_spark\u001b[38;5;241m.\u001b[39m_sc\u001b[38;5;241m.\u001b[39m_jvm\u001b[38;5;241m.\u001b[39mPythonUtils\u001b[38;5;241m.\u001b[39mtoSeq(path)))\n\u001b[0;32m    840\u001b[0m \u001b[38;5;28;01mif\u001b[39;00m \u001b[38;5;129;01mnot\u001b[39;00m is_remote_only():\n\u001b[0;32m    841\u001b[0m     \u001b[38;5;28;01mfrom\u001b[39;00m\u001b[38;5;250m \u001b[39m\u001b[38;5;21;01mpyspark\u001b[39;00m\u001b[38;5;21;01m.\u001b[39;00m\u001b[38;5;21;01mcore\u001b[39;00m\u001b[38;5;21;01m.\u001b[39;00m\u001b[38;5;21;01mrdd\u001b[39;00m\u001b[38;5;250m \u001b[39m\u001b[38;5;28;01mimport\u001b[39;00m RDD  \u001b[38;5;66;03m# noqa: F401\u001b[39;00m\n",
      "File \u001b[1;32m~\\anaconda3\\Lib\\site-packages\\py4j\\java_gateway.py:1362\u001b[0m, in \u001b[0;36mJavaMember.__call__\u001b[1;34m(self, *args)\u001b[0m\n\u001b[0;32m   1356\u001b[0m command \u001b[38;5;241m=\u001b[39m proto\u001b[38;5;241m.\u001b[39mCALL_COMMAND_NAME \u001b[38;5;241m+\u001b[39m\\\n\u001b[0;32m   1357\u001b[0m     \u001b[38;5;28mself\u001b[39m\u001b[38;5;241m.\u001b[39mcommand_header \u001b[38;5;241m+\u001b[39m\\\n\u001b[0;32m   1358\u001b[0m     args_command \u001b[38;5;241m+\u001b[39m\\\n\u001b[0;32m   1359\u001b[0m     proto\u001b[38;5;241m.\u001b[39mEND_COMMAND_PART\n\u001b[0;32m   1361\u001b[0m answer \u001b[38;5;241m=\u001b[39m \u001b[38;5;28mself\u001b[39m\u001b[38;5;241m.\u001b[39mgateway_client\u001b[38;5;241m.\u001b[39msend_command(command)\n\u001b[1;32m-> 1362\u001b[0m return_value \u001b[38;5;241m=\u001b[39m get_return_value(\n\u001b[0;32m   1363\u001b[0m     answer, \u001b[38;5;28mself\u001b[39m\u001b[38;5;241m.\u001b[39mgateway_client, \u001b[38;5;28mself\u001b[39m\u001b[38;5;241m.\u001b[39mtarget_id, \u001b[38;5;28mself\u001b[39m\u001b[38;5;241m.\u001b[39mname)\n\u001b[0;32m   1365\u001b[0m \u001b[38;5;28;01mfor\u001b[39;00m temp_arg \u001b[38;5;129;01min\u001b[39;00m temp_args:\n\u001b[0;32m   1366\u001b[0m     \u001b[38;5;28;01mif\u001b[39;00m \u001b[38;5;28mhasattr\u001b[39m(temp_arg, \u001b[38;5;124m\"\u001b[39m\u001b[38;5;124m_detach\u001b[39m\u001b[38;5;124m\"\u001b[39m):\n",
      "File \u001b[1;32m~\\anaconda3\\Lib\\site-packages\\pyspark\\errors\\exceptions\\captured.py:288\u001b[0m, in \u001b[0;36mcapture_sql_exception.<locals>.deco\u001b[1;34m(*a, **kw)\u001b[0m\n\u001b[0;32m    284\u001b[0m converted \u001b[38;5;241m=\u001b[39m convert_exception(e\u001b[38;5;241m.\u001b[39mjava_exception)\n\u001b[0;32m    285\u001b[0m \u001b[38;5;28;01mif\u001b[39;00m \u001b[38;5;129;01mnot\u001b[39;00m \u001b[38;5;28misinstance\u001b[39m(converted, UnknownException):\n\u001b[0;32m    286\u001b[0m     \u001b[38;5;66;03m# Hide where the exception came from that shows a non-Pythonic\u001b[39;00m\n\u001b[0;32m    287\u001b[0m     \u001b[38;5;66;03m# JVM exception message.\u001b[39;00m\n\u001b[1;32m--> 288\u001b[0m     \u001b[38;5;28;01mraise\u001b[39;00m converted \u001b[38;5;28;01mfrom\u001b[39;00m\u001b[38;5;250m \u001b[39m\u001b[38;5;28;01mNone\u001b[39;00m\n\u001b[0;32m    289\u001b[0m \u001b[38;5;28;01melse\u001b[39;00m:\n\u001b[0;32m    290\u001b[0m     \u001b[38;5;28;01mraise\u001b[39;00m\n",
      "\u001b[1;31mAnalysisException\u001b[0m: [PATH_NOT_FOUND] Path does not exist: file:/C:/Users/adity/Downloads/MIDMARKS.csv. SQLSTATE: 42K03"
     ]
    }
   ],
   "source": [
    "from pyspark.sql import SparkSession\n",
    "\n",
    "# Start Spark\n",
    "spark = SparkSession.builder.appName(\"MidMarksAnalysis\").getOrCreate()\n",
    "\n",
    "# Load CSV\n",
    "df = spark.read.csv(\"MIDMARKS.csv\", header=True, inferSchema=True)\n",
    "\n",
    "# Show sample\n",
    "df.show(5)\n"
   ]
  },
  {
   "cell_type": "code",
   "execution_count": null,
   "id": "5d22b2d1-12b6-43cc-be2f-8ae72e5f637b",
   "metadata": {},
   "outputs": [],
   "source": [
    "from pyspark.sql.functions import expr\n",
    "\n",
    "# Convert all subject columns to IntegerType safely (marks never exceed 20)\n",
    "subjects = [\"DV\",\"M-II\",\"PP\",\"BEEE\",\"FL\",\"FIMS\"]\n",
    "for subj in subjects:\n",
    "    df = df.withColumn(subj, expr(f\"try_cast(`{subj}` as int)\"))\n",
    "\n",
    "# Summary only for numeric columns (int/double)\n",
    "numeric_cols = [c for c, t in df.dtypes if t in ('int', 'double')]\n",
    "df.select(numeric_cols).describe().show()\n"
   ]
  },
  {
   "cell_type": "code",
   "execution_count": null,
   "id": "ea847f2c-141f-44a7-af1d-776082e06b4f",
   "metadata": {},
   "outputs": [],
   "source": [
    "from pyspark.sql.functions import col, sum\n",
    "null_counts = df.select([sum(col(c).isNull().cast(\"int\")).alias(c) for c in df.columns])\n",
    "null_counts.show()\n",
    "\n"
   ]
  },
  {
   "cell_type": "code",
   "execution_count": null,
   "id": "27ac843d-16b7-4e24-adf5-c33f1f64c6c4",
   "metadata": {},
   "outputs": [],
   "source": [
    "df.describe().show(truncate=False)\n",
    "df.summary().show(truncate=False)"
   ]
  },
  {
   "cell_type": "code",
   "execution_count": null,
   "id": "f48f44cb-f9e6-4ed0-9422-a22848ca38dd",
   "metadata": {},
   "outputs": [],
   "source": [
    "# Cleaning dataset"
   ]
  },
  {
   "cell_type": "code",
   "execution_count": null,
   "id": "c043163c-78ad-4db4-a6d4-383864d2b362",
   "metadata": {},
   "outputs": [],
   "source": [
    "df.groupBy(\"Section\").count().show()"
   ]
  },
  {
   "cell_type": "code",
   "execution_count": null,
   "id": "af46f582-6fe6-46b3-bba5-3f7c5b788665",
   "metadata": {},
   "outputs": [],
   "source": [
    "df = df.na.fill({\"Section\":\"ZETA\"})"
   ]
  },
  {
   "cell_type": "code",
   "execution_count": null,
   "id": "30f45a28-efac-45e6-b03f-572a8948ad02",
   "metadata": {},
   "outputs": [],
   "source": [
    "df.groupBy(\"Section\").count().show()"
   ]
  },
  {
   "cell_type": "code",
   "execution_count": null,
   "id": "18cadc06-1e87-432b-a150-1d0145e9870e",
   "metadata": {},
   "outputs": [],
   "source": [
    "from pyspark.sql.functions import when, col\n",
    "\n",
    "df = df.withColumn(\n",
    "    \"SECTION\",\n",
    "    when(col(\"SECTION\") == \"SGMA\",\"SIGMA\")\n",
    "    .when(col(\"SECTION\") == \"GAMMA\", \"GAMA\")\n",
    "    .otherwise(col(\"SECTION\"))\n",
    ")"
   ]
  },
  {
   "cell_type": "code",
   "execution_count": null,
   "id": "242267f3-177e-4011-848b-8e4ee09571d1",
   "metadata": {},
   "outputs": [],
   "source": [
    "df = df.withColumn(\n",
    "    \"DV\",\n",
    "    when(col(\"DV\") == \"A\",0)\n",
    "    .when(col(\"DV\") == \"o\",0)\n",
    "    .otherwise(col(\"DV\"))\n",
    ")"
   ]
  },
  {
   "cell_type": "code",
   "execution_count": null,
   "id": "468ec8d7-31c8-4e2d-b82b-5a5356470a74",
   "metadata": {},
   "outputs": [],
   "source": [
    "df = df.na.fill({\"DV\":\"0\"})"
   ]
  },
  {
   "cell_type": "code",
   "execution_count": null,
   "id": "fbb11b19-e6ae-4ae3-a3fa-884a6775f739",
   "metadata": {},
   "outputs": [],
   "source": [
    "df.groupBy(\"Section\").count().show()"
   ]
  },
  {
   "cell_type": "code",
   "execution_count": null,
   "id": "d33f2bfb-6c00-4271-a5a4-15d6a47d5d21",
   "metadata": {},
   "outputs": [],
   "source": [
    "df.groupBy(\"Section\").count().show()"
   ]
  },
  {
   "cell_type": "code",
   "execution_count": null,
   "id": "6b2a15a6-88a8-4487-990d-3c6b0f440121",
   "metadata": {},
   "outputs": [],
   "source": [
    "# Number of rows & columns\n",
    "print(\"Rows:\", df.count())\n",
    "print(\"Columns:\", len(df.columns))"
   ]
  },
  {
   "cell_type": "code",
   "execution_count": null,
   "id": "5a5066b2-43cd-4698-8d98-7cc2c50e1031",
   "metadata": {},
   "outputs": [],
   "source": [
    "df.groupBy(\"SECTION\").count().orderBy(\"count\", ascending=False).show()"
   ]
  },
  {
   "cell_type": "code",
   "execution_count": null,
   "id": "83ca8966-510e-4c59-9c21-9e5b9a82793f",
   "metadata": {},
   "outputs": [],
   "source": [
    "from pyspark.sql.functions import expr\n",
    "\n",
    "subjects = [\"DV\", \"MII\", \"PP\", \"BEEE\", \"FL\", \"FIMS\"]\n",
    "\n",
    "# Try casting each subject column to int, invalid values become NULL\n",
    "for i in subjects:\n",
    "    df = df.withColumn(i, expr(f\"try_cast({i} as int)\"))\n"
   ]
  },
  {
   "cell_type": "code",
   "execution_count": null,
   "id": "d5a208a6-4dc8-4e73-9fb0-a739749051b5",
   "metadata": {},
   "outputs": [],
   "source": [
    "df.select(subjects).show(10)\n"
   ]
  },
  {
   "cell_type": "code",
   "execution_count": null,
   "id": "ab0ea3ae-c6f1-44c4-81b7-232980a56d8e",
   "metadata": {},
   "outputs": [],
   "source": [
    "df = df.na.fill({\"PP\":\"0\"})"
   ]
  },
  {
   "cell_type": "code",
   "execution_count": null,
   "id": "16c60afd-c291-4218-8ef2-ef77fccbd541",
   "metadata": {},
   "outputs": [],
   "source": [
    "df = df.na.fill({\"BEEE\":\"0\"})\n",
    "df = df.na.fill({\"PP\":\"0\"})\n",
    "df = df.na.fill({\"FL\":\"0\"})\n",
    "df = df.na.fill({\"FIMS\":\"0\"})\n",
    "df = df.na.fill({\"DV\":\"0\"})\n",
    "df = df.na.fill({\"MII\":\"0\"})"
   ]
  },
  {
   "cell_type": "code",
   "execution_count": null,
   "id": "78c3e761-91a8-4c53-a09b-b4335f31dc92",
   "metadata": {},
   "outputs": [],
   "source": [
    "df.select(subjects).show(10)"
   ]
  },
  {
   "cell_type": "code",
   "execution_count": null,
   "id": "d0325b8a-49b0-4b06-ad5d-555e572a5dfb",
   "metadata": {},
   "outputs": [],
   "source": [
    "from pyspark.sql.functions import coalesce, lit\n",
    "\n",
    "for subj in subjects:\n",
    "    df = df.withColumn(subj, coalesce(df[subj], lit(0)))"
   ]
  },
  {
   "cell_type": "code",
   "execution_count": null,
   "id": "846631be-0199-45d2-a4fc-8d9ec8926902",
   "metadata": {},
   "outputs": [],
   "source": [
    "from pyspark.sql.functions import expr\n",
    "\n",
    "df = df.withColumn(\"SNO_int\", expr(\"try_cast(SNO as int)\"))"
   ]
  },
  {
   "cell_type": "code",
   "execution_count": null,
   "id": "79c91684-4105-48d7-80bd-8512fe42ee2e",
   "metadata": {},
   "outputs": [],
   "source": [
    "df.select(\"SNO\", \"SNO_int\").show(10)\n"
   ]
  },
  {
   "cell_type": "code",
   "execution_count": null,
   "id": "f5a979a2-2b4f-40e6-a952-b9933303bdd2",
   "metadata": {},
   "outputs": [],
   "source": [
    "df.dtypes"
   ]
  },
  {
   "cell_type": "code",
   "execution_count": null,
   "id": "cb1763cf-debe-40f3-bc08-6cea56145ac4",
   "metadata": {},
   "outputs": [],
   "source": [
    "# Done with data cleaning"
   ]
  },
  {
   "cell_type": "code",
   "execution_count": null,
   "id": "721bd150-4ec0-41dc-a78f-bc30935b8fb2",
   "metadata": {},
   "outputs": [],
   "source": [
    "from pyspark.sql.functions import expr\n",
    "\n",
    "# Convert all subject columns to IntegerType safely (marks never exceed 20)\n",
    "subjects = [\"DV\",\"M-II\",\"PP\",\"BEEE\",\"FL\",\"FIMS\"]\n",
    "for subj in subjects:\n",
    "    df = df.withColumn(subj, expr(f\"try_cast(`{subj}` as int)\"))\n",
    "\n",
    "# Summary only for numeric columns (int/double)\n",
    "numeric_cols = [c for c, t in df.dtypes if t in ('int', 'double')]\n",
    "df.select(numeric_cols).describe().show()\n"
   ]
  },
  {
   "cell_type": "code",
   "execution_count": null,
   "id": "b8fbbb20-2192-4372-a644-e4c1f05c0e43",
   "metadata": {},
   "outputs": [],
   "source": []
  },
  {
   "cell_type": "code",
   "execution_count": null,
   "id": "4f6223f1-a474-4b60-8ab2-8dfd3fd86f7f",
   "metadata": {},
   "outputs": [],
   "source": []
  },
  {
   "cell_type": "code",
   "execution_count": null,
   "id": "b0519820-5059-4e29-9835-600a7ab7b4cd",
   "metadata": {},
   "outputs": [],
   "source": []
  },
  {
   "cell_type": "code",
   "execution_count": null,
   "id": "f5b3783d-8946-40cf-9802-2c452169a251",
   "metadata": {},
   "outputs": [],
   "source": []
  },
  {
   "cell_type": "code",
   "execution_count": null,
   "id": "1876acc8-ac33-47d0-8ad9-661a8c986dc4",
   "metadata": {},
   "outputs": [],
   "source": []
  }
 ],
 "metadata": {
  "kernelspec": {
   "display_name": "Python 3 (ipykernel)",
   "language": "python",
   "name": "python3"
  },
  "language_info": {
   "codemirror_mode": {
    "name": "ipython",
    "version": 3
   },
   "file_extension": ".py",
   "mimetype": "text/x-python",
   "name": "python",
   "nbconvert_exporter": "python",
   "pygments_lexer": "ipython3",
   "version": "3.13.5"
  }
 },
 "nbformat": 4,
 "nbformat_minor": 5
}
