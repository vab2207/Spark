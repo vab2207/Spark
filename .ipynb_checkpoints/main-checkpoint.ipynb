{
 "cells": [
  {
   "cell_type": "code",
   "execution_count": 2,
   "id": "a54c1299-f449-4ab5-9278-2c5c1c540f0e",
   "metadata": {},
   "outputs": [],
   "source": [
    "import findspark\n",
    "findspark.init()\n",
    "from pyspark.sql import SparkSession\n",
    "spark = SparkSession.builder.appName(\"Test\").getOrCreate()"
   ]
  },
  {
   "cell_type": "code",
   "execution_count": 3,
   "id": "ae57f0f8-1260-4f48-a971-d69403bd0bfc",
   "metadata": {},
   "outputs": [],
   "source": [
    "data = spark.read.csv(\"MIDMARKS.csv\", header=True)"
   ]
  },
  {
   "cell_type": "code",
   "execution_count": 4,
   "id": "89683966-f603-47cd-9515-9abb683845fb",
   "metadata": {},
   "outputs": [
    {
     "name": "stdout",
     "output_type": "stream",
     "text": [
      "+----+-------+---+----+---+----+---+----+\n",
      "|S.NO|SECTION| DV|M-II| PP|BEEE| FL|FIMS|\n",
      "+----+-------+---+----+---+----+---+----+\n",
      "|   1|  ALPHA| 12|   0| 17|   9| 19|  15|\n",
      "|   2|  ALPHA| 19|  12| 16|  16| 18|   3|\n",
      "|   3|  ALPHA| 18|  14| 18|  18| 18|  16|\n",
      "|   4|  ALPHA| 15|   9| 19|  17| 19|  15|\n",
      "|   5|  ALPHA| 18|  17| 19|  19| 20|  18|\n",
      "|   6|  ALPHA| 17|  16| 18|  10| 15|   9|\n",
      "|   7|  ALPHA| 15|  10| 20|  20| 15|  14|\n",
      "|   8|  ALPHA| 17|  17| 19|  20| 19|  13|\n",
      "|   9|  ALPHA| 10|  18|  A|  20| 19|  15|\n",
      "|  10|  ALPHA| 18|  19| 20|  20| 20|  15|\n",
      "|  11|  ALPHA| 17|  18| 20|  18| 20|  18|\n",
      "|  12|  ALPHA| 20|  20| 20|  20| 19|  16|\n",
      "|  13|  ALPHA| 16|  18| 11|  15| 19|  15|\n",
      "|  14|  ALPHA| 17|  17| 18|  11| 15|   9|\n",
      "|  15|  ALPHA| 19|  20| 20|  20| 18|  12|\n",
      "|  16|  ALPHA| 13|  18| 17|  19| 16|   9|\n",
      "|  17|  ALPHA| 15|  17| 18|  17| 17|  13|\n",
      "|  18|  ALPHA| 11|   8| 18|  15| 19|  15|\n",
      "|  19|  ALPHA| 14|  12| 16|  16| 20|  14|\n",
      "|  20|  ALPHA| 19|  17| 20|  20| 20|  18|\n",
      "+----+-------+---+----+---+----+---+----+\n",
      "only showing top 20 rows\n"
     ]
    }
   ],
   "source": [
    "data.show()"
   ]
  },
  {
   "cell_type": "code",
   "execution_count": 6,
   "id": "8390cb63-8725-471e-82b7-0f85affc9122",
   "metadata": {},
   "outputs": [
    {
     "name": "stdout",
     "output_type": "stream",
     "text": [
      "root\n",
      " |-- S.NO: string (nullable = true)\n",
      " |-- SECTION: string (nullable = true)\n",
      " |-- DV: string (nullable = true)\n",
      " |-- M-II: string (nullable = true)\n",
      " |-- PP: string (nullable = true)\n",
      " |-- BEEE: string (nullable = true)\n",
      " |-- FL: string (nullable = true)\n",
      " |-- FIMS: string (nullable = true)\n",
      "\n"
     ]
    }
   ],
   "source": [
    "data.printSchema()"
   ]
  },
  {
   "cell_type": "code",
   "execution_count": 7,
   "id": "ab54e5f6-98db-4eef-a657-899a6351f1cf",
   "metadata": {},
   "outputs": [
    {
     "name": "stdout",
     "output_type": "stream",
     "text": [
      "+-------+-----+\n",
      "|SECTION|count|\n",
      "+-------+-----+\n",
      "|   GAMA|    1|\n",
      "|   ZETA|   19|\n",
      "|   SGMA|    1|\n",
      "|   NULL|   41|\n",
      "|   BETA|   60|\n",
      "|  OMEGA|   60|\n",
      "|EPSILON|   60|\n",
      "|  SIGMA|   59|\n",
      "|  ALPHA|   60|\n",
      "|  GAMMA|   59|\n",
      "|  DELTA|   60|\n",
      "+-------+-----+\n",
      "\n"
     ]
    }
   ],
   "source": [
    "data.groupBy(\"SECTION\").count().show()\n"
   ]
  },
  {
   "cell_type": "code",
   "execution_count": 8,
   "id": "979a2f3e-61e1-4a2a-a55c-9779bff6a146",
   "metadata": {},
   "outputs": [
    {
     "name": "stdout",
     "output_type": "stream",
     "text": [
      "+-------+-----+\n",
      "|SECTION|count|\n",
      "+-------+-----+\n",
      "|   GAMA|    1|\n",
      "|   ZETA|   60|\n",
      "|   SGMA|    1|\n",
      "|   BETA|   60|\n",
      "|  OMEGA|   60|\n",
      "|EPSILON|   60|\n",
      "|  SIGMA|   59|\n",
      "|  ALPHA|   60|\n",
      "|  GAMMA|   59|\n",
      "|  DELTA|   60|\n",
      "+-------+-----+\n",
      "\n"
     ]
    }
   ],
   "source": [
    "data = data.na.fill({\"SECTION\": \"ZETA\"})\n",
    "data.groupBy(\"SECTION\").count().show()"
   ]
  },
  {
   "cell_type": "code",
   "execution_count": 10,
   "id": "6117d238-747e-4571-999c-4f4c71f74055",
   "metadata": {},
   "outputs": [],
   "source": [
    "from pyspark.sql.functions import when, col\n",
    "data = data.withColumn(\n",
    "    \"SECTION\",\n",
    "    when(col(\"SECTION\") == \"GAMA\", \"GAMMA\")\n",
    "    .when(col(\"SECTION\") == \"SGMA\", \"SIGMA\")\n",
    "    .otherwise(col(\"SECTION\"))\n",
    ")"
   ]
  },
  {
   "cell_type": "code",
   "execution_count": 11,
   "id": "3aa745cb-661f-4e50-8f80-f1e6ecf4d9ba",
   "metadata": {},
   "outputs": [
    {
     "name": "stdout",
     "output_type": "stream",
     "text": [
      "+-------+-----+\n",
      "|SECTION|count|\n",
      "+-------+-----+\n",
      "|   ZETA|   60|\n",
      "|   BETA|   60|\n",
      "|  OMEGA|   60|\n",
      "|EPSILON|   60|\n",
      "|  SIGMA|   60|\n",
      "|  ALPHA|   60|\n",
      "|  GAMMA|   60|\n",
      "|  DELTA|   60|\n",
      "+-------+-----+\n",
      "\n"
     ]
    }
   ],
   "source": [
    "data.groupBy(\"SECTION\").count().show()"
   ]
  },
  {
   "cell_type": "code",
   "execution_count": 12,
   "id": "a1517ce8-b5eb-4f25-8054-02a96dfb11e5",
   "metadata": {},
   "outputs": [
    {
     "name": "stdout",
     "output_type": "stream",
     "text": [
      "+----+-----+\n",
      "|  DV|count|\n",
      "+----+-----+\n",
      "|   7|    6|\n",
      "|  15|   45|\n",
      "|  11|   31|\n",
      "|   3|    1|\n",
      "|   8|   10|\n",
      "|  16|   48|\n",
      "|NULL|    1|\n",
      "|   5|    8|\n",
      "|  18|   47|\n",
      "|  2o|    1|\n",
      "|  17|   52|\n",
      "|   6|    9|\n",
      "|  19|   37|\n",
      "|   A|    8|\n",
      "|   9|   14|\n",
      "|   1|    3|\n",
      "|  20|   52|\n",
      "|  10|   22|\n",
      "|   4|    3|\n",
      "|  12|   27|\n",
      "+----+-----+\n",
      "only showing top 20 rows\n"
     ]
    }
   ],
   "source": [
    "data.groupBy(\"DV\").count().show()"
   ]
  },
  {
   "cell_type": "code",
   "execution_count": 14,
   "id": "9ea2e5dd-63ee-43dc-b152-45ad626d5d5f",
   "metadata": {},
   "outputs": [
    {
     "name": "stdout",
     "output_type": "stream",
     "text": [
      "+---+-----+\n",
      "| DV|count|\n",
      "+---+-----+\n",
      "|  7|    6|\n",
      "| 15|   45|\n",
      "| 11|   31|\n",
      "|  3|    1|\n",
      "|  8|   10|\n",
      "| 16|   48|\n",
      "|  0|    1|\n",
      "|  5|    8|\n",
      "| 18|   47|\n",
      "| 2o|    1|\n",
      "| 17|   52|\n",
      "|  6|    9|\n",
      "| 19|   37|\n",
      "|  A|    8|\n",
      "|  9|   14|\n",
      "|  1|    3|\n",
      "| 20|   52|\n",
      "| 10|   22|\n",
      "|  4|    3|\n",
      "| 12|   27|\n",
      "+---+-----+\n",
      "only showing top 20 rows\n"
     ]
    }
   ],
   "source": [
    "data = data.na.fill({\"DV\": \"0\"})\n",
    "data.groupBy(\"DV\").count().show()"
   ]
  },
  {
   "cell_type": "code",
   "execution_count": 16,
   "id": "203da38a-622a-4c99-92a6-fd00da9d19c7",
   "metadata": {},
   "outputs": [],
   "source": [
    "data = data.withColumn(\n",
    " \"DV\",\n",
    " when(col(\"DV\") == \"A\",0)\n",
    " .otherwise(col(\"DV\"))\n",
    ")"
   ]
  },
  {
   "cell_type": "code",
   "execution_count": 18,
   "id": "8693c41a-77f7-4138-b79d-f6b51314cbe3",
   "metadata": {},
   "outputs": [
    {
     "name": "stdout",
     "output_type": "stream",
     "text": [
      "+----+-----+\n",
      "|M-II|count|\n",
      "+----+-----+\n",
      "|   7|   14|\n",
      "|  15|   24|\n",
      "|  11|   24|\n",
      "|   3|   34|\n",
      "|   8|   29|\n",
      "|  16|   16|\n",
      "|   0|   24|\n",
      "|NULL|    3|\n",
      "|   5|   23|\n",
      "|  18|   23|\n",
      "|  I2|    1|\n",
      "|  17|   32|\n",
      "|   6|   18|\n",
      "|   o|    3|\n",
      "|  19|   12|\n",
      "|   A|    4|\n",
      "|  II|    1|\n",
      "|  AB|    5|\n",
      "|   9|   17|\n",
      "|   1|   16|\n",
      "+----+-----+\n",
      "only showing top 20 rows\n"
     ]
    }
   ],
   "source": [
    "data.groupBy(\"M-II\").count().show()"
   ]
  },
  {
   "cell_type": "code",
   "execution_count": 19,
   "id": "50cc2ca4-1a66-4cc8-b3a9-7886310264c9",
   "metadata": {},
   "outputs": [],
   "source": [
    "# Grade assignment"
   ]
  },
  {
   "cell_type": "code",
   "execution_count": 27,
   "id": "708977d3-fd58-4566-8ac9-61b15ff5c002",
   "metadata": {},
   "outputs": [
    {
     "name": "stderr",
     "output_type": "stream",
     "text": [
      "{\"ts\": \"2025-09-24 05:39:28.558\", \"level\": \"ERROR\", \"logger\": \"DataFrameQueryContextLogger\", \"msg\": \"[UNRESOLVED_COLUMN.WITH_SUGGESTION] A column, variable, or function parameter with name `SNO` cannot be resolved. Did you mean one of the following? [`S.NO`, `DV`, `FL`, `PP`, `BEEE`]. SQLSTATE: 42703\", \"context\": {\"file\": \"jdk.internal.reflect.GeneratedMethodAccessor59.invoke(Unknown Source)\", \"line\": \"\", \"fragment\": \"col\", \"errorClass\": \"UNRESOLVED_COLUMN.WITH_SUGGESTION\"}, \"exception\": {\"class\": \"Py4JJavaError\", \"msg\": \"An error occurred while calling o722.select.\\n: org.apache.spark.sql.AnalysisException: [UNRESOLVED_COLUMN.WITH_SUGGESTION] A column, variable, or function parameter with name `SNO` cannot be resolved. Did you mean one of the following? [`S.NO`, `DV`, `FL`, `PP`, `BEEE`]. SQLSTATE: 42703;\\n'Project ['SNO, 'NAME, SECTION#100, Total#326, Average#327, Grade#328]\\n+- Project [S.NO#17, SECTION#100, DV#320, M-II#321, PP#322, BEEE#323, FL#324, FIMS#325, DV_Grade#205, Total#326, Average#327, CASE WHEN (Average#327 >= cast(80 as double)) THEN A WHEN (Average#327 >= cast(60 as double)) THEN B WHEN (Average#327 >= cast(40 as double)) THEN C ELSE F END AS Grade#328]\\n   +- Project [S.NO#17, SECTION#100, DV#320, M-II#321, PP#322, BEEE#323, FL#324, FIMS#325, DV_Grade#205, Total#326, (cast(Total#326 as double) / cast(6 as double)) AS Average#327, Grade#274]\\n      +- Project [S.NO#17, SECTION#100, DV#320, M-II#321, PP#322, BEEE#323, FL#324, FIMS#325, DV_Grade#205, ((((((DV#320 + 0) + M-II#321) + PP#322) + BEEE#323) + FL#324) + FIMS#325) AS Total#326, Average#273, Grade#274]\\n         +- Project [S.NO#17, SECTION#100, DV#320, M-II#321, PP#322, BEEE#323, FL#324, CASE WHEN RLIKE(cast(FIMS#271 as string), ^[0-9]+$) THEN cast(FIMS#271 as int) ELSE 0 END AS FIMS#325, DV_Grade#205, Total#272, Average#273, Grade#274]\\n            +- Project [S.NO#17, SECTION#100, DV#320, M-II#321, PP#322, BEEE#323, CASE WHEN RLIKE(cast(FL#270 as string), ^[0-9]+$) THEN cast(FL#270 as int) ELSE 0 END AS FL#324, FIMS#271, DV_Grade#205, Total#272, Average#273, Grade#274]\\n               +- Project [S.NO#17, SECTION#100, DV#320, M-II#321, PP#322, CASE WHEN RLIKE(cast(BEEE#269 as string), ^[0-9]+$) THEN cast(BEEE#269 as int) ELSE 0 END AS BEEE#323, FL#270, FIMS#271, DV_Grade#205, Total#272, Average#273, Grade#274]\\n                  +- Project [S.NO#17, SECTION#100, DV#320, M-II#321, CASE WHEN RLIKE(cast(PP#268 as string), ^[0-9]+$) THEN cast(PP#268 as int) ELSE 0 END AS PP#322, BEEE#269, FL#270, FIMS#271, DV_Grade#205, Total#272, Average#273, Grade#274]\\n                     +- Project [S.NO#17, SECTION#100, DV#320, CASE WHEN RLIKE(cast(M-II#267 as string), ^[0-9]+$) THEN cast(M-II#267 as int) ELSE 0 END AS M-II#321, PP#268, BEEE#269, FL#270, FIMS#271, DV_Grade#205, Total#272, Average#273, Grade#274]\\n                        +- Project [S.NO#17, SECTION#100, CASE WHEN RLIKE(cast(DV#266 as string), ^[0-9]+$) THEN cast(DV#266 as int) ELSE 0 END AS DV#320, M-II#267, PP#268, BEEE#269, FL#270, FIMS#271, DV_Grade#205, Total#272, Average#273, Grade#274]\\n                           +- Project [S.NO#17, SECTION#100, DV#266, M-II#267, PP#268, BEEE#269, FL#270, FIMS#271, DV_Grade#205, Total#272, Average#273, CASE WHEN (Average#273 >= cast(80 as double)) THEN A WHEN (Average#273 >= cast(60 as double)) THEN B WHEN (Average#273 >= cast(40 as double)) THEN C ELSE F END AS Grade#274]\\n                              +- Project [S.NO#17, SECTION#100, DV#266, M-II#267, PP#268, BEEE#269, FL#270, FIMS#271, DV_Grade#205, Total#272, (cast(((((((DV#266 + 0) + M-II#267) + PP#268) + BEEE#269) + FL#270) + FIMS#271) as double) / cast(6 as double)) AS Average#273, Grade#259]\\n                                 +- Project [S.NO#17, SECTION#100, DV#266, M-II#267, PP#268, BEEE#269, FL#270, FIMS#271, DV_Grade#205, ((((((DV#266 + 0) + M-II#267) + PP#268) + BEEE#269) + FL#270) + FIMS#271) AS Total#272, Average#258, Grade#259]\\n                                    +- Project [S.NO#17, SECTION#100, DV#266, M-II#267, PP#268, BEEE#269, FL#270, cast(FIMS#265 as int) AS FIMS#271, DV_Grade#205, Total#257, Average#258, Grade#259]\\n                                       +- Project [S.NO#17, SECTION#100, DV#266, M-II#267, PP#268, BEEE#269, cast(FL#264 as int) AS FL#270, FIMS#265, DV_Grade#205, Total#257, Average#258, Grade#259]\\n                                          +- Project [S.NO#17, SECTION#100, DV#266, M-II#267, PP#268, cast(BEEE#263 as int) AS BEEE#269, FL#264, FIMS#265, DV_Grade#205, Total#257, Average#258, Grade#259]\\n                                             +- Project [S.NO#17, SECTION#100, DV#266, M-II#267, cast(PP#262 as int) AS PP#268, BEEE#263, FL#264, FIMS#265, DV_Grade#205, Total#257, Average#258, Grade#259]\\n                                                +- Project [S.NO#17, SECTION#100, DV#266, cast(M-II#261 as int) AS M-II#267, PP#262, BEEE#263, FL#264, FIMS#265, DV_Grade#205, Total#257, Average#258, Grade#259]\\n                                                   +- Project [S.NO#17, SECTION#100, cast(DV#260 as int) AS DV#266, M-II#261, PP#262, BEEE#263, FL#264, FIMS#265, DV_Grade#205, Total#257, Average#258, Grade#259]\\n                                                      +- Project [S.NO#17, SECTION#100, DV#260, M-II#261, PP#262, BEEE#263, FL#264, regexp_replace(cast(FIMS#256 as string), [^0-9], 0, 1) AS FIMS#265, DV_Grade#205, Total#257, Average#258, Grade#259]\\n                                                         +- Project [S.NO#17, SECTION#100, DV#260, M-II#261, PP#262, BEEE#263, regexp_replace(cast(FL#255 as string), [^0-9], 0, 1) AS FL#264, FIMS#256, DV_Grade#205, Total#257, Average#258, Grade#259]\\n                                                            +- Project [S.NO#17, SECTION#100, DV#260, M-II#261, PP#262, regexp_replace(cast(BEEE#254 as string), [^0-9], 0, 1) AS BEEE#263, FL#255, FIMS#256, DV_Grade#205, Total#257, Average#258, Grade#259]\\n                                                               +- Project [S.NO#17, SECTION#100, DV#260, M-II#261, regexp_replace(cast(PP#253 as string), [^0-9], 0, 1) AS PP#262, BEEE#254, FL#255, FIMS#256, DV_Grade#205, Total#257, Average#258, Grade#259]\\n                                                                  +- Project [S.NO#17, SECTION#100, DV#260, regexp_replace(cast(M-II#252 as string), [^0-9], 0, 1) AS M-II#261, PP#253, BEEE#254, FL#255, FIMS#256, DV_Grade#205, Total#257, Average#258, Grade#259]\\n                                                                     +- Project [S.NO#17, SECTION#100, regexp_replace(cast(DV#251 as string), [^0-9], 0, 1) AS DV#260, M-II#252, PP#253, BEEE#254, FL#255, FIMS#256, DV_Grade#205, Total#257, Average#258, Grade#259]\\n                                                                        +- Project [S.NO#17, SECTION#100, DV#251, M-II#252, PP#253, BEEE#254, FL#255, FIMS#256, DV_Grade#205, Total#257, Average#258, CASE WHEN (Average#258 >= cast(80 as double)) THEN A WHEN (Average#258 >= cast(60 as double)) THEN B WHEN (Average#258 >= cast(40 as double)) THEN C ELSE F END AS Grade#259]\\n                                                                           +- Project [S.NO#17, SECTION#100, DV#251, M-II#252, PP#253, BEEE#254, FL#255, FIMS#256, DV_Grade#205, Total#257, (cast(Total#257 as double) / cast(6 as double)) AS Average#258, Grade#250]\\n                                                                              +- Project [S.NO#17, SECTION#100, DV#251, M-II#252, PP#253, BEEE#254, FL#255, FIMS#256, DV_Grade#205, ((((((DV#251 + 0) + M-II#252) + PP#253) + BEEE#254) + FL#255) + FIMS#256) AS Total#257, Average#249, Grade#250]\\n                                                                                 +- Project [S.NO#17, SECTION#100, DV#251, M-II#252, PP#253, BEEE#254, FL#255, CASE WHEN isnotnull(cast(FIMS#247 as int)) THEN cast(FIMS#247 as int) ELSE 0 END AS FIMS#256, DV_Grade#205, Total#248, Average#249, Grade#250]\\n                                                                                    +- Project [S.NO#17, SECTION#100, DV#251, M-II#252, PP#253, BEEE#254, CASE WHEN isnotnull(cast(FL#246 as int)) THEN cast(FL#246 as int) ELSE 0 END AS FL#255, FIMS#247, DV_Grade#205, Total#248, Average#249, Grade#250]\\n                                                                                       +- Project [S.NO#17, SECTION#100, DV#251, M-II#252, PP#253, CASE WHEN isnotnull(cast(BEEE#245 as int)) THEN cast(BEEE#245 as int) ELSE 0 END AS BEEE#254, FL#246, FIMS#247, DV_Grade#205, Total#248, Average#249, Grade#250]\\n                                                                                          +- Project [S.NO#17, SECTION#100, DV#251, M-II#252, CASE WHEN isnotnull(cast(PP#244 as int)) THEN cast(PP#244 as int) ELSE 0 END AS PP#253, BEEE#245, FL#246, FIMS#247, DV_Grade#205, Total#248, Average#249, Grade#250]\\n                                                                                             +- Project [S.NO#17, SECTION#100, DV#251, CASE WHEN isnotnull(cast(M-II#243 as int)) THEN cast(M-II#243 as int) ELSE 0 END AS M-II#252, PP#244, BEEE#245, FL#246, FIMS#247, DV_Grade#205, Total#248, Average#249, Grade#250]\\n                                                                                                +- Project [S.NO#17, SECTION#100, CASE WHEN isnotnull(cast(DV#242 as int)) THEN cast(DV#242 as int) ELSE 0 END AS DV#251, M-II#243, PP#244, BEEE#245, FL#246, FIMS#247, DV_Grade#205, Total#248, Average#249, Grade#250]\\n                                                                                                   +- Project [S.NO#17, SECTION#100, DV#242, M-II#243, PP#244, BEEE#245, FL#246, FIMS#247, DV_Grade#205, Total#248, Average#249, CASE WHEN (Average#249 >= cast(80 as double)) THEN A WHEN (Average#249 >= cast(60 as double)) THEN B WHEN (Average#249 >= cast(40 as double)) THEN C ELSE F END AS Grade#250]\\n                                                                                                      +- Project [S.NO#17, SECTION#100, DV#242, M-II#243, PP#244, BEEE#245, FL#246, FIMS#247, DV_Grade#205, Total#248, (cast(Total#248 as double) / cast(6 as double)) AS Average#249]\\n                                                                                                         +- Project [S.NO#17, SECTION#100, DV#242, M-II#243, PP#244, BEEE#245, FL#246, FIMS#247, DV_Grade#205, ((((((DV#242 + 0) + M-II#243) + PP#244) + BEEE#245) + FL#246) + FIMS#247) AS Total#248]\\n                                                                                                            +- Project [S.NO#17, SECTION#100, DV#242, M-II#243, PP#244, BEEE#245, FL#246, CASE WHEN isnotnull(cast(FIMS#24 as int)) THEN cast(FIMS#24 as int) ELSE 0 END AS FIMS#247, DV_Grade#205]\\n                                                                                                               +- Project [S.NO#17, SECTION#100, DV#242, M-II#243, PP#244, BEEE#245, CASE WHEN isnotnull(cast(FL#23 as int)) THEN cast(FL#23 as int) ELSE 0 END AS FL#246, FIMS#24, DV_Grade#205]\\n                                                                                                                  +- Project [S.NO#17, SECTION#100, DV#242, M-II#243, PP#244, CASE WHEN isnotnull(cast(BEEE#22 as int)) THEN cast(BEEE#22 as int) ELSE 0 END AS BEEE#245, FL#23, FIMS#24, DV_Grade#205]\\n                                                                                                                     +- Project [S.NO#17, SECTION#100, DV#242, M-II#243, CASE WHEN isnotnull(cast(PP#21 as int)) THEN cast(PP#21 as int) ELSE 0 END AS PP#244, BEEE#22, FL#23, FIMS#24, DV_Grade#205]\\n                                                                                                                        +- Project [S.NO#17, SECTION#100, DV#242, CASE WHEN isnotnull(cast(M-II#20 as int)) THEN cast(M-II#20 as int) ELSE 0 END AS M-II#243, PP#21, BEEE#22, FL#23, FIMS#24, DV_Grade#205]\\n                                                                                                                           +- Project [S.NO#17, SECTION#100, CASE WHEN isnotnull(cast(DV#164L as int)) THEN cast(DV#164L as int) ELSE 0 END AS DV#242, M-II#20, PP#21, BEEE#22, FL#23, FIMS#24, DV_Grade#205]\\n                                                                                                                              +- Project [S.NO#17, SECTION#100, DV#164L, M-II#20, PP#21, BEEE#22, FL#23, FIMS#24, CASE WHEN (DV#164L >= cast(80 as bigint)) THEN A WHEN (DV#164L >= cast(60 as bigint)) THEN B WHEN (DV#164L >= cast(40 as bigint)) THEN C ELSE F END AS DV_Grade#205]\\n                                                                                                                                 +- Project [S.NO#17, SECTION#100, CASE WHEN (DV#163L = cast(A as bigint)) THEN cast(0 as bigint) ELSE DV#163L END AS DV#164L, M-II#20, PP#21, BEEE#22, FL#23, FIMS#24]\\n                                                                                                                                    +- Project [S.NO#17, SECTION#100, CASE WHEN (DV#142 = A) THEN cast(0 as bigint) ELSE cast(DV#142 as bigint) END AS DV#163L, M-II#20, PP#21, BEEE#22, FL#23, FIMS#24]\\n                                                                                                                                       +- Project [S.NO#17, SECTION#100, coalesce(DV#141, cast(0 as string)) AS DV#142, M-II#20, PP#21, BEEE#22, FL#23, FIMS#24]\\n                                                                                                                                          +- Project [S.NO#17, SECTION#100, coalesce(DV#19, cast(0 as string)) AS DV#141, M-II#20, PP#21, BEEE#22, FL#23, FIMS#24]\\n                                                                                                                                             +- Project [S.NO#17, CASE WHEN (SECTION#79 = GAMA) THEN GAMMA WHEN (SECTION#79 = SGMA) THEN SIGMA ELSE SECTION#79 END AS SECTION#100, DV#19, M-II#20, PP#21, BEEE#22, FL#23, FIMS#24]\\n                                                                                                                                                +- Project [S.NO#17, coalesce(SECTION#18, cast(ZETA as string)) AS SECTION#79, DV#19, M-II#20, PP#21, BEEE#22, FL#23, FIMS#24]\\n                                                                                                                                                   +- Relation [S.NO#17,SECTION#18,DV#19,M-II#20,PP#21,BEEE#22,FL#23,FIMS#24] csv\\n\\r\\n\\tat org.apache.spark.sql.errors.QueryCompilationErrors$.unresolvedAttributeError(QueryCompilationErrors.scala:401)\\r\\n\\tat org.apache.spark.sql.catalyst.analysis.CheckAnalysis.org$apache$spark$sql$catalyst$analysis$CheckAnalysis$$failUnresolvedAttribute(CheckAnalysis.scala:169)\\r\\n\\tat org.apache.spark.sql.catalyst.analysis.CheckAnalysis.$anonfun$checkAnalysis0$7(CheckAnalysis.scala:404)\\r\\n\\tat org.apache.spark.sql.catalyst.analysis.CheckAnalysis.$anonfun$checkAnalysis0$7$adapted(CheckAnalysis.scala:402)\\r\\n\\tat org.apache.spark.sql.catalyst.trees.TreeNode.foreachUp(TreeNode.scala:252)\\r\\n\\tat org.apache.spark.sql.catalyst.analysis.CheckAnalysis.$anonfun$checkAnalysis0$6(CheckAnalysis.scala:402)\\r\\n\\tat org.apache.spark.sql.catalyst.analysis.CheckAnalysis.$anonfun$checkAnalysis0$6$adapted(CheckAnalysis.scala:402)\\r\\n\\tat scala.collection.immutable.List.foreach(List.scala:334)\\r\\n\\tat org.apache.spark.sql.catalyst.analysis.CheckAnalysis.$anonfun$checkAnalysis0$2(CheckAnalysis.scala:402)\\r\\n\\tat org.apache.spark.sql.catalyst.analysis.CheckAnalysis.$anonfun$checkAnalysis0$2$adapted(CheckAnalysis.scala:284)\\r\\n\\tat org.apache.spark.sql.catalyst.trees.TreeNode.foreachUp(TreeNode.scala:252)\\r\\n\\tat org.apache.spark.sql.catalyst.analysis.CheckAnalysis.checkAnalysis0(CheckAnalysis.scala:284)\\r\\n\\tat org.apache.spark.sql.catalyst.analysis.CheckAnalysis.checkAnalysis0$(CheckAnalysis.scala:255)\\r\\n\\tat org.apache.spark.sql.catalyst.analysis.Analyzer.checkAnalysis0(Analyzer.scala:299)\\r\\n\\tat org.apache.spark.sql.catalyst.analysis.CheckAnalysis.checkAnalysis(CheckAnalysis.scala:244)\\r\\n\\tat org.apache.spark.sql.catalyst.analysis.CheckAnalysis.checkAnalysis$(CheckAnalysis.scala:231)\\r\\n\\tat org.apache.spark.sql.catalyst.analysis.Analyzer.checkAnalysis(Analyzer.scala:299)\\r\\n\\tat org.apache.spark.sql.catalyst.analysis.resolver.HybridAnalyzer.$anonfun$resolveInFixedPoint$1(HybridAnalyzer.scala:192)\\r\\n\\tat scala.runtime.java8.JFunction0$mcV$sp.apply(JFunction0$mcV$sp.scala:18)\\r\\n\\tat org.apache.spark.sql.catalyst.QueryPlanningTracker$.withTracker(QueryPlanningTracker.scala:89)\\r\\n\\tat org.apache.spark.sql.catalyst.analysis.resolver.HybridAnalyzer.resolveInFixedPoint(HybridAnalyzer.scala:192)\\r\\n\\tat org.apache.spark.sql.catalyst.analysis.resolver.HybridAnalyzer.$anonfun$apply$1(HybridAnalyzer.scala:76)\\r\\n\\tat org.apache.spark.sql.catalyst.analysis.resolver.HybridAnalyzer.withTrackedAnalyzerBridgeState(HybridAnalyzer.scala:111)\\r\\n\\tat org.apache.spark.sql.catalyst.analysis.resolver.HybridAnalyzer.apply(HybridAnalyzer.scala:71)\\r\\n\\tat org.apache.spark.sql.catalyst.analysis.Analyzer.$anonfun$executeAndCheck$1(Analyzer.scala:330)\\r\\n\\tat org.apache.spark.sql.catalyst.plans.logical.AnalysisHelper$.markInAnalyzer(AnalysisHelper.scala:423)\\r\\n\\tat org.apache.spark.sql.catalyst.analysis.Analyzer.executeAndCheck(Analyzer.scala:330)\\r\\n\\tat org.apache.spark.sql.execution.QueryExecution.$anonfun$lazyAnalyzed$2(QueryExecution.scala:110)\\r\\n\\tat org.apache.spark.sql.catalyst.QueryPlanningTracker.measurePhase(QueryPlanningTracker.scala:148)\\r\\n\\tat org.apache.spark.sql.execution.QueryExecution.$anonfun$executePhase$2(QueryExecution.scala:278)\\r\\n\\tat org.apache.spark.sql.execution.QueryExecution$.withInternalError(QueryExecution.scala:654)\\r\\n\\tat org.apache.spark.sql.execution.QueryExecution.$anonfun$executePhase$1(QueryExecution.scala:278)\\r\\n\\tat org.apache.spark.sql.SparkSession.withActive(SparkSession.scala:804)\\r\\n\\tat org.apache.spark.sql.execution.QueryExecution.executePhase(QueryExecution.scala:277)\\r\\n\\tat org.apache.spark.sql.execution.QueryExecution.$anonfun$lazyAnalyzed$1(QueryExecution.scala:110)\\r\\n\\tat scala.util.Try$.apply(Try.scala:217)\\r\\n\\tat org.apache.spark.util.Utils$.doTryWithCallerStacktrace(Utils.scala:1378)\\r\\n\\tat org.apache.spark.util.Utils$.getTryWithCallerStacktrace(Utils.scala:1439)\\r\\n\\tat org.apache.spark.util.LazyTry.get(LazyTry.scala:58)\\r\\n\\tat org.apache.spark.sql.execution.QueryExecution.analyzed(QueryExecution.scala:121)\\r\\n\\tat org.apache.spark.sql.execution.QueryExecution.assertAnalyzed(QueryExecution.scala:80)\\r\\n\\tat org.apache.spark.sql.classic.Dataset$.$anonfun$ofRows$1(Dataset.scala:115)\\r\\n\\tat org.apache.spark.sql.SparkSession.withActive(SparkSession.scala:804)\\r\\n\\tat org.apache.spark.sql.classic.Dataset$.ofRows(Dataset.scala:113)\\r\\n\\tat org.apache.spark.sql.classic.Dataset.withPlan(Dataset.scala:2263)\\r\\n\\tat org.apache.spark.sql.classic.Dataset.select(Dataset.scala:894)\\r\\n\\tat org.apache.spark.sql.classic.Dataset.select(Dataset.scala:232)\\r\\n\\tat java.base/jdk.internal.reflect.NativeMethodAccessorImpl.invoke0(Native Method)\\r\\n\\tat java.base/jdk.internal.reflect.NativeMethodAccessorImpl.invoke(NativeMethodAccessorImpl.java:77)\\r\\n\\tat java.base/jdk.internal.reflect.DelegatingMethodAccessorImpl.invoke(DelegatingMethodAccessorImpl.java:43)\\r\\n\\tat java.base/java.lang.reflect.Method.invoke(Method.java:568)\\r\\n\\tat py4j.reflection.MethodInvoker.invoke(MethodInvoker.java:244)\\r\\n\\tat py4j.reflection.ReflectionEngine.invoke(ReflectionEngine.java:374)\\r\\n\\tat py4j.Gateway.invoke(Gateway.java:282)\\r\\n\\tat py4j.commands.AbstractCommand.invokeMethod(AbstractCommand.java:132)\\r\\n\\tat py4j.commands.CallCommand.execute(CallCommand.java:79)\\r\\n\\tat py4j.ClientServerConnection.waitForCommands(ClientServerConnection.java:184)\\r\\n\\tat py4j.ClientServerConnection.run(ClientServerConnection.java:108)\\r\\n\\tat java.base/java.lang.Thread.run(Thread.java:842)\\r\\n\\tSuppressed: org.apache.spark.util.Utils$OriginalTryStackTraceException: Full stacktrace of original doTryWithCallerStacktrace caller\\r\\n\\t\\tat org.apache.spark.sql.errors.QueryCompilationErrors$.unresolvedAttributeError(QueryCompilationErrors.scala:401)\\r\\n\\t\\tat org.apache.spark.sql.catalyst.analysis.CheckAnalysis.org$apache$spark$sql$catalyst$analysis$CheckAnalysis$$failUnresolvedAttribute(CheckAnalysis.scala:169)\\r\\n\\t\\tat org.apache.spark.sql.catalyst.analysis.CheckAnalysis.$anonfun$checkAnalysis0$7(CheckAnalysis.scala:404)\\r\\n\\t\\tat org.apache.spark.sql.catalyst.analysis.CheckAnalysis.$anonfun$checkAnalysis0$7$adapted(CheckAnalysis.scala:402)\\r\\n\\t\\tat org.apache.spark.sql.catalyst.trees.TreeNode.foreachUp(TreeNode.scala:252)\\r\\n\\t\\tat org.apache.spark.sql.catalyst.analysis.CheckAnalysis.$anonfun$checkAnalysis0$6(CheckAnalysis.scala:402)\\r\\n\\t\\tat org.apache.spark.sql.catalyst.analysis.CheckAnalysis.$anonfun$checkAnalysis0$6$adapted(CheckAnalysis.scala:402)\\r\\n\\t\\tat scala.collection.immutable.List.foreach(List.scala:334)\\r\\n\\t\\tat org.apache.spark.sql.catalyst.analysis.CheckAnalysis.$anonfun$checkAnalysis0$2(CheckAnalysis.scala:402)\\r\\n\\t\\tat org.apache.spark.sql.catalyst.analysis.CheckAnalysis.$anonfun$checkAnalysis0$2$adapted(CheckAnalysis.scala:284)\\r\\n\\t\\tat org.apache.spark.sql.catalyst.trees.TreeNode.foreachUp(TreeNode.scala:252)\\r\\n\\t\\tat org.apache.spark.sql.catalyst.analysis.CheckAnalysis.checkAnalysis0(CheckAnalysis.scala:284)\\r\\n\\t\\tat org.apache.spark.sql.catalyst.analysis.CheckAnalysis.checkAnalysis0$(CheckAnalysis.scala:255)\\r\\n\\t\\tat org.apache.spark.sql.catalyst.analysis.Analyzer.checkAnalysis0(Analyzer.scala:299)\\r\\n\\t\\tat org.apache.spark.sql.catalyst.analysis.CheckAnalysis.checkAnalysis(CheckAnalysis.scala:244)\\r\\n\\t\\tat org.apache.spark.sql.catalyst.analysis.CheckAnalysis.checkAnalysis$(CheckAnalysis.scala:231)\\r\\n\\t\\tat org.apache.spark.sql.catalyst.analysis.Analyzer.checkAnalysis(Analyzer.scala:299)\\r\\n\\t\\tat org.apache.spark.sql.catalyst.analysis.resolver.HybridAnalyzer.$anonfun$resolveInFixedPoint$1(HybridAnalyzer.scala:192)\\r\\n\\t\\tat scala.runtime.java8.JFunction0$mcV$sp.apply(JFunction0$mcV$sp.scala:18)\\r\\n\\t\\tat org.apache.spark.sql.catalyst.QueryPlanningTracker$.withTracker(QueryPlanningTracker.scala:89)\\r\\n\\t\\tat org.apache.spark.sql.catalyst.analysis.resolver.HybridAnalyzer.resolveInFixedPoint(HybridAnalyzer.scala:192)\\r\\n\\t\\tat org.apache.spark.sql.catalyst.analysis.resolver.HybridAnalyzer.$anonfun$apply$1(HybridAnalyzer.scala:76)\\r\\n\\t\\tat org.apache.spark.sql.catalyst.analysis.resolver.HybridAnalyzer.withTrackedAnalyzerBridgeState(HybridAnalyzer.scala:111)\\r\\n\\t\\tat org.apache.spark.sql.catalyst.analysis.resolver.HybridAnalyzer.apply(HybridAnalyzer.scala:71)\\r\\n\\t\\tat org.apache.spark.sql.catalyst.analysis.Analyzer.$anonfun$executeAndCheck$1(Analyzer.scala:330)\\r\\n\\t\\tat org.apache.spark.sql.catalyst.plans.logical.AnalysisHelper$.markInAnalyzer(AnalysisHelper.scala:423)\\r\\n\\t\\tat org.apache.spark.sql.catalyst.analysis.Analyzer.executeAndCheck(Analyzer.scala:330)\\r\\n\\t\\tat org.apache.spark.sql.execution.QueryExecution.$anonfun$lazyAnalyzed$2(QueryExecution.scala:110)\\r\\n\\t\\tat org.apache.spark.sql.catalyst.QueryPlanningTracker.measurePhase(QueryPlanningTracker.scala:148)\\r\\n\\t\\tat org.apache.spark.sql.execution.QueryExecution.$anonfun$executePhase$2(QueryExecution.scala:278)\\r\\n\\t\\tat org.apache.spark.sql.execution.QueryExecution$.withInternalError(QueryExecution.scala:654)\\r\\n\\t\\tat org.apache.spark.sql.execution.QueryExecution.$anonfun$executePhase$1(QueryExecution.scala:278)\\r\\n\\t\\tat org.apache.spark.sql.SparkSession.withActive(SparkSession.scala:804)\\r\\n\\t\\tat org.apache.spark.sql.execution.QueryExecution.executePhase(QueryExecution.scala:277)\\r\\n\\t\\tat org.apache.spark.sql.execution.QueryExecution.$anonfun$lazyAnalyzed$1(QueryExecution.scala:110)\\r\\n\\t\\tat scala.util.Try$.apply(Try.scala:217)\\r\\n\\t\\tat org.apache.spark.util.Utils$.doTryWithCallerStacktrace(Utils.scala:1378)\\r\\n\\t\\tat org.apache.spark.util.LazyTry.tryT$lzycompute(LazyTry.scala:46)\\r\\n\\t\\tat org.apache.spark.util.LazyTry.tryT(LazyTry.scala:46)\\r\\n\\t\\t... 21 more\\r\\n\", \"stacktrace\": [{\"class\": null, \"method\": \"deco\", \"file\": \"C:\\\\spark-4.0.1-bin-hadoop3\\\\python\\\\pyspark\\\\errors\\\\exceptions\\\\captured.py\", \"line\": \"282\"}, {\"class\": null, \"method\": \"get_return_value\", \"file\": \"C:\\\\spark-4.0.1-bin-hadoop3\\\\python\\\\lib\\\\py4j-0.10.9.9-src.zip\\\\py4j\\\\protocol.py\", \"line\": \"327\"}]}}\n"
     ]
    },
    {
     "ename": "AnalysisException",
     "evalue": "[UNRESOLVED_COLUMN.WITH_SUGGESTION] A column, variable, or function parameter with name `SNO` cannot be resolved. Did you mean one of the following? [`S.NO`, `DV`, `FL`, `PP`, `BEEE`]. SQLSTATE: 42703;\n'Project ['SNO, 'NAME, SECTION#100, Total#326, Average#327, Grade#328]\n+- Project [S.NO#17, SECTION#100, DV#320, M-II#321, PP#322, BEEE#323, FL#324, FIMS#325, DV_Grade#205, Total#326, Average#327, CASE WHEN (Average#327 >= cast(80 as double)) THEN A WHEN (Average#327 >= cast(60 as double)) THEN B WHEN (Average#327 >= cast(40 as double)) THEN C ELSE F END AS Grade#328]\n   +- Project [S.NO#17, SECTION#100, DV#320, M-II#321, PP#322, BEEE#323, FL#324, FIMS#325, DV_Grade#205, Total#326, (cast(Total#326 as double) / cast(6 as double)) AS Average#327, Grade#274]\n      +- Project [S.NO#17, SECTION#100, DV#320, M-II#321, PP#322, BEEE#323, FL#324, FIMS#325, DV_Grade#205, ((((((DV#320 + 0) + M-II#321) + PP#322) + BEEE#323) + FL#324) + FIMS#325) AS Total#326, Average#273, Grade#274]\n         +- Project [S.NO#17, SECTION#100, DV#320, M-II#321, PP#322, BEEE#323, FL#324, CASE WHEN RLIKE(cast(FIMS#271 as string), ^[0-9]+$) THEN cast(FIMS#271 as int) ELSE 0 END AS FIMS#325, DV_Grade#205, Total#272, Average#273, Grade#274]\n            +- Project [S.NO#17, SECTION#100, DV#320, M-II#321, PP#322, BEEE#323, CASE WHEN RLIKE(cast(FL#270 as string), ^[0-9]+$) THEN cast(FL#270 as int) ELSE 0 END AS FL#324, FIMS#271, DV_Grade#205, Total#272, Average#273, Grade#274]\n               +- Project [S.NO#17, SECTION#100, DV#320, M-II#321, PP#322, CASE WHEN RLIKE(cast(BEEE#269 as string), ^[0-9]+$) THEN cast(BEEE#269 as int) ELSE 0 END AS BEEE#323, FL#270, FIMS#271, DV_Grade#205, Total#272, Average#273, Grade#274]\n                  +- Project [S.NO#17, SECTION#100, DV#320, M-II#321, CASE WHEN RLIKE(cast(PP#268 as string), ^[0-9]+$) THEN cast(PP#268 as int) ELSE 0 END AS PP#322, BEEE#269, FL#270, FIMS#271, DV_Grade#205, Total#272, Average#273, Grade#274]\n                     +- Project [S.NO#17, SECTION#100, DV#320, CASE WHEN RLIKE(cast(M-II#267 as string), ^[0-9]+$) THEN cast(M-II#267 as int) ELSE 0 END AS M-II#321, PP#268, BEEE#269, FL#270, FIMS#271, DV_Grade#205, Total#272, Average#273, Grade#274]\n                        +- Project [S.NO#17, SECTION#100, CASE WHEN RLIKE(cast(DV#266 as string), ^[0-9]+$) THEN cast(DV#266 as int) ELSE 0 END AS DV#320, M-II#267, PP#268, BEEE#269, FL#270, FIMS#271, DV_Grade#205, Total#272, Average#273, Grade#274]\n                           +- Project [S.NO#17, SECTION#100, DV#266, M-II#267, PP#268, BEEE#269, FL#270, FIMS#271, DV_Grade#205, Total#272, Average#273, CASE WHEN (Average#273 >= cast(80 as double)) THEN A WHEN (Average#273 >= cast(60 as double)) THEN B WHEN (Average#273 >= cast(40 as double)) THEN C ELSE F END AS Grade#274]\n                              +- Project [S.NO#17, SECTION#100, DV#266, M-II#267, PP#268, BEEE#269, FL#270, FIMS#271, DV_Grade#205, Total#272, (cast(((((((DV#266 + 0) + M-II#267) + PP#268) + BEEE#269) + FL#270) + FIMS#271) as double) / cast(6 as double)) AS Average#273, Grade#259]\n                                 +- Project [S.NO#17, SECTION#100, DV#266, M-II#267, PP#268, BEEE#269, FL#270, FIMS#271, DV_Grade#205, ((((((DV#266 + 0) + M-II#267) + PP#268) + BEEE#269) + FL#270) + FIMS#271) AS Total#272, Average#258, Grade#259]\n                                    +- Project [S.NO#17, SECTION#100, DV#266, M-II#267, PP#268, BEEE#269, FL#270, cast(FIMS#265 as int) AS FIMS#271, DV_Grade#205, Total#257, Average#258, Grade#259]\n                                       +- Project [S.NO#17, SECTION#100, DV#266, M-II#267, PP#268, BEEE#269, cast(FL#264 as int) AS FL#270, FIMS#265, DV_Grade#205, Total#257, Average#258, Grade#259]\n                                          +- Project [S.NO#17, SECTION#100, DV#266, M-II#267, PP#268, cast(BEEE#263 as int) AS BEEE#269, FL#264, FIMS#265, DV_Grade#205, Total#257, Average#258, Grade#259]\n                                             +- Project [S.NO#17, SECTION#100, DV#266, M-II#267, cast(PP#262 as int) AS PP#268, BEEE#263, FL#264, FIMS#265, DV_Grade#205, Total#257, Average#258, Grade#259]\n                                                +- Project [S.NO#17, SECTION#100, DV#266, cast(M-II#261 as int) AS M-II#267, PP#262, BEEE#263, FL#264, FIMS#265, DV_Grade#205, Total#257, Average#258, Grade#259]\n                                                   +- Project [S.NO#17, SECTION#100, cast(DV#260 as int) AS DV#266, M-II#261, PP#262, BEEE#263, FL#264, FIMS#265, DV_Grade#205, Total#257, Average#258, Grade#259]\n                                                      +- Project [S.NO#17, SECTION#100, DV#260, M-II#261, PP#262, BEEE#263, FL#264, regexp_replace(cast(FIMS#256 as string), [^0-9], 0, 1) AS FIMS#265, DV_Grade#205, Total#257, Average#258, Grade#259]\n                                                         +- Project [S.NO#17, SECTION#100, DV#260, M-II#261, PP#262, BEEE#263, regexp_replace(cast(FL#255 as string), [^0-9], 0, 1) AS FL#264, FIMS#256, DV_Grade#205, Total#257, Average#258, Grade#259]\n                                                            +- Project [S.NO#17, SECTION#100, DV#260, M-II#261, PP#262, regexp_replace(cast(BEEE#254 as string), [^0-9], 0, 1) AS BEEE#263, FL#255, FIMS#256, DV_Grade#205, Total#257, Average#258, Grade#259]\n                                                               +- Project [S.NO#17, SECTION#100, DV#260, M-II#261, regexp_replace(cast(PP#253 as string), [^0-9], 0, 1) AS PP#262, BEEE#254, FL#255, FIMS#256, DV_Grade#205, Total#257, Average#258, Grade#259]\n                                                                  +- Project [S.NO#17, SECTION#100, DV#260, regexp_replace(cast(M-II#252 as string), [^0-9], 0, 1) AS M-II#261, PP#253, BEEE#254, FL#255, FIMS#256, DV_Grade#205, Total#257, Average#258, Grade#259]\n                                                                     +- Project [S.NO#17, SECTION#100, regexp_replace(cast(DV#251 as string), [^0-9], 0, 1) AS DV#260, M-II#252, PP#253, BEEE#254, FL#255, FIMS#256, DV_Grade#205, Total#257, Average#258, Grade#259]\n                                                                        +- Project [S.NO#17, SECTION#100, DV#251, M-II#252, PP#253, BEEE#254, FL#255, FIMS#256, DV_Grade#205, Total#257, Average#258, CASE WHEN (Average#258 >= cast(80 as double)) THEN A WHEN (Average#258 >= cast(60 as double)) THEN B WHEN (Average#258 >= cast(40 as double)) THEN C ELSE F END AS Grade#259]\n                                                                           +- Project [S.NO#17, SECTION#100, DV#251, M-II#252, PP#253, BEEE#254, FL#255, FIMS#256, DV_Grade#205, Total#257, (cast(Total#257 as double) / cast(6 as double)) AS Average#258, Grade#250]\n                                                                              +- Project [S.NO#17, SECTION#100, DV#251, M-II#252, PP#253, BEEE#254, FL#255, FIMS#256, DV_Grade#205, ((((((DV#251 + 0) + M-II#252) + PP#253) + BEEE#254) + FL#255) + FIMS#256) AS Total#257, Average#249, Grade#250]\n                                                                                 +- Project [S.NO#17, SECTION#100, DV#251, M-II#252, PP#253, BEEE#254, FL#255, CASE WHEN isnotnull(cast(FIMS#247 as int)) THEN cast(FIMS#247 as int) ELSE 0 END AS FIMS#256, DV_Grade#205, Total#248, Average#249, Grade#250]\n                                                                                    +- Project [S.NO#17, SECTION#100, DV#251, M-II#252, PP#253, BEEE#254, CASE WHEN isnotnull(cast(FL#246 as int)) THEN cast(FL#246 as int) ELSE 0 END AS FL#255, FIMS#247, DV_Grade#205, Total#248, Average#249, Grade#250]\n                                                                                       +- Project [S.NO#17, SECTION#100, DV#251, M-II#252, PP#253, CASE WHEN isnotnull(cast(BEEE#245 as int)) THEN cast(BEEE#245 as int) ELSE 0 END AS BEEE#254, FL#246, FIMS#247, DV_Grade#205, Total#248, Average#249, Grade#250]\n                                                                                          +- Project [S.NO#17, SECTION#100, DV#251, M-II#252, CASE WHEN isnotnull(cast(PP#244 as int)) THEN cast(PP#244 as int) ELSE 0 END AS PP#253, BEEE#245, FL#246, FIMS#247, DV_Grade#205, Total#248, Average#249, Grade#250]\n                                                                                             +- Project [S.NO#17, SECTION#100, DV#251, CASE WHEN isnotnull(cast(M-II#243 as int)) THEN cast(M-II#243 as int) ELSE 0 END AS M-II#252, PP#244, BEEE#245, FL#246, FIMS#247, DV_Grade#205, Total#248, Average#249, Grade#250]\n                                                                                                +- Project [S.NO#17, SECTION#100, CASE WHEN isnotnull(cast(DV#242 as int)) THEN cast(DV#242 as int) ELSE 0 END AS DV#251, M-II#243, PP#244, BEEE#245, FL#246, FIMS#247, DV_Grade#205, Total#248, Average#249, Grade#250]\n                                                                                                   +- Project [S.NO#17, SECTION#100, DV#242, M-II#243, PP#244, BEEE#245, FL#246, FIMS#247, DV_Grade#205, Total#248, Average#249, CASE WHEN (Average#249 >= cast(80 as double)) THEN A WHEN (Average#249 >= cast(60 as double)) THEN B WHEN (Average#249 >= cast(40 as double)) THEN C ELSE F END AS Grade#250]\n                                                                                                      +- Project [S.NO#17, SECTION#100, DV#242, M-II#243, PP#244, BEEE#245, FL#246, FIMS#247, DV_Grade#205, Total#248, (cast(Total#248 as double) / cast(6 as double)) AS Average#249]\n                                                                                                         +- Project [S.NO#17, SECTION#100, DV#242, M-II#243, PP#244, BEEE#245, FL#246, FIMS#247, DV_Grade#205, ((((((DV#242 + 0) + M-II#243) + PP#244) + BEEE#245) + FL#246) + FIMS#247) AS Total#248]\n                                                                                                            +- Project [S.NO#17, SECTION#100, DV#242, M-II#243, PP#244, BEEE#245, FL#246, CASE WHEN isnotnull(cast(FIMS#24 as int)) THEN cast(FIMS#24 as int) ELSE 0 END AS FIMS#247, DV_Grade#205]\n                                                                                                               +- Project [S.NO#17, SECTION#100, DV#242, M-II#243, PP#244, BEEE#245, CASE WHEN isnotnull(cast(FL#23 as int)) THEN cast(FL#23 as int) ELSE 0 END AS FL#246, FIMS#24, DV_Grade#205]\n                                                                                                                  +- Project [S.NO#17, SECTION#100, DV#242, M-II#243, PP#244, CASE WHEN isnotnull(cast(BEEE#22 as int)) THEN cast(BEEE#22 as int) ELSE 0 END AS BEEE#245, FL#23, FIMS#24, DV_Grade#205]\n                                                                                                                     +- Project [S.NO#17, SECTION#100, DV#242, M-II#243, CASE WHEN isnotnull(cast(PP#21 as int)) THEN cast(PP#21 as int) ELSE 0 END AS PP#244, BEEE#22, FL#23, FIMS#24, DV_Grade#205]\n                                                                                                                        +- Project [S.NO#17, SECTION#100, DV#242, CASE WHEN isnotnull(cast(M-II#20 as int)) THEN cast(M-II#20 as int) ELSE 0 END AS M-II#243, PP#21, BEEE#22, FL#23, FIMS#24, DV_Grade#205]\n                                                                                                                           +- Project [S.NO#17, SECTION#100, CASE WHEN isnotnull(cast(DV#164L as int)) THEN cast(DV#164L as int) ELSE 0 END AS DV#242, M-II#20, PP#21, BEEE#22, FL#23, FIMS#24, DV_Grade#205]\n                                                                                                                              +- Project [S.NO#17, SECTION#100, DV#164L, M-II#20, PP#21, BEEE#22, FL#23, FIMS#24, CASE WHEN (DV#164L >= cast(80 as bigint)) THEN A WHEN (DV#164L >= cast(60 as bigint)) THEN B WHEN (DV#164L >= cast(40 as bigint)) THEN C ELSE F END AS DV_Grade#205]\n                                                                                                                                 +- Project [S.NO#17, SECTION#100, CASE WHEN (DV#163L = cast(A as bigint)) THEN cast(0 as bigint) ELSE DV#163L END AS DV#164L, M-II#20, PP#21, BEEE#22, FL#23, FIMS#24]\n                                                                                                                                    +- Project [S.NO#17, SECTION#100, CASE WHEN (DV#142 = A) THEN cast(0 as bigint) ELSE cast(DV#142 as bigint) END AS DV#163L, M-II#20, PP#21, BEEE#22, FL#23, FIMS#24]\n                                                                                                                                       +- Project [S.NO#17, SECTION#100, coalesce(DV#141, cast(0 as string)) AS DV#142, M-II#20, PP#21, BEEE#22, FL#23, FIMS#24]\n                                                                                                                                          +- Project [S.NO#17, SECTION#100, coalesce(DV#19, cast(0 as string)) AS DV#141, M-II#20, PP#21, BEEE#22, FL#23, FIMS#24]\n                                                                                                                                             +- Project [S.NO#17, CASE WHEN (SECTION#79 = GAMA) THEN GAMMA WHEN (SECTION#79 = SGMA) THEN SIGMA ELSE SECTION#79 END AS SECTION#100, DV#19, M-II#20, PP#21, BEEE#22, FL#23, FIMS#24]\n                                                                                                                                                +- Project [S.NO#17, coalesce(SECTION#18, cast(ZETA as string)) AS SECTION#79, DV#19, M-II#20, PP#21, BEEE#22, FL#23, FIMS#24]\n                                                                                                                                                   +- Relation [S.NO#17,SECTION#18,DV#19,M-II#20,PP#21,BEEE#22,FL#23,FIMS#24] csv\n",
     "output_type": "error",
     "traceback": [
      "\u001b[1;31m---------------------------------------------------------------------------\u001b[0m",
      "\u001b[1;31mAnalysisException\u001b[0m                         Traceback (most recent call last)",
      "Cell \u001b[1;32mIn[27], line 22\u001b[0m\n\u001b[0;32m     13\u001b[0m \u001b[38;5;66;03m# Step 3: Grade\u001b[39;00m\n\u001b[0;32m     14\u001b[0m data \u001b[38;5;241m=\u001b[39m data\u001b[38;5;241m.\u001b[39mwithColumn(\n\u001b[0;32m     15\u001b[0m     \u001b[38;5;124m\"\u001b[39m\u001b[38;5;124mGrade\u001b[39m\u001b[38;5;124m\"\u001b[39m,\n\u001b[0;32m     16\u001b[0m     when(col(\u001b[38;5;124m\"\u001b[39m\u001b[38;5;124mAverage\u001b[39m\u001b[38;5;124m\"\u001b[39m) \u001b[38;5;241m>\u001b[39m\u001b[38;5;241m=\u001b[39m \u001b[38;5;241m80\u001b[39m, \u001b[38;5;124m\"\u001b[39m\u001b[38;5;124mA\u001b[39m\u001b[38;5;124m\"\u001b[39m)\n\u001b[1;32m   (...)\u001b[0m\n\u001b[0;32m     19\u001b[0m     \u001b[38;5;241m.\u001b[39motherwise(\u001b[38;5;124m\"\u001b[39m\u001b[38;5;124mF\u001b[39m\u001b[38;5;124m\"\u001b[39m)\n\u001b[0;32m     20\u001b[0m )\n\u001b[1;32m---> 22\u001b[0m data\u001b[38;5;241m.\u001b[39mselect(\u001b[38;5;124m\"\u001b[39m\u001b[38;5;124mSNO\u001b[39m\u001b[38;5;124m\"\u001b[39m,\u001b[38;5;124m\"\u001b[39m\u001b[38;5;124mNAME\u001b[39m\u001b[38;5;124m\"\u001b[39m,\u001b[38;5;124m\"\u001b[39m\u001b[38;5;124mSECTION\u001b[39m\u001b[38;5;124m\"\u001b[39m,\u001b[38;5;124m\"\u001b[39m\u001b[38;5;124mTotal\u001b[39m\u001b[38;5;124m\"\u001b[39m,\u001b[38;5;124m\"\u001b[39m\u001b[38;5;124mAverage\u001b[39m\u001b[38;5;124m\"\u001b[39m,\u001b[38;5;124m\"\u001b[39m\u001b[38;5;124mGrade\u001b[39m\u001b[38;5;124m\"\u001b[39m)\u001b[38;5;241m.\u001b[39mshow()\n",
      "File \u001b[1;32mC:\\spark-4.0.1-bin-hadoop3\\python\\pyspark\\sql\\classic\\dataframe.py:991\u001b[0m, in \u001b[0;36mDataFrame.select\u001b[1;34m(self, *cols)\u001b[0m\n\u001b[0;32m    990\u001b[0m \u001b[38;5;28;01mdef\u001b[39;00m\u001b[38;5;250m \u001b[39m\u001b[38;5;21mselect\u001b[39m(\u001b[38;5;28mself\u001b[39m, \u001b[38;5;241m*\u001b[39mcols: \u001b[38;5;124m\"\u001b[39m\u001b[38;5;124mColumnOrName\u001b[39m\u001b[38;5;124m\"\u001b[39m) \u001b[38;5;241m-\u001b[39m\u001b[38;5;241m>\u001b[39m ParentDataFrame:  \u001b[38;5;66;03m# type: ignore[misc]\u001b[39;00m\n\u001b[1;32m--> 991\u001b[0m     jdf \u001b[38;5;241m=\u001b[39m \u001b[38;5;28mself\u001b[39m\u001b[38;5;241m.\u001b[39m_jdf\u001b[38;5;241m.\u001b[39mselect(\u001b[38;5;28mself\u001b[39m\u001b[38;5;241m.\u001b[39m_jcols(\u001b[38;5;241m*\u001b[39mcols))\n\u001b[0;32m    992\u001b[0m     \u001b[38;5;28;01mreturn\u001b[39;00m DataFrame(jdf, \u001b[38;5;28mself\u001b[39m\u001b[38;5;241m.\u001b[39msparkSession)\n",
      "File \u001b[1;32mC:\\spark-4.0.1-bin-hadoop3\\python\\lib\\py4j-0.10.9.9-src.zip\\py4j\\java_gateway.py:1362\u001b[0m, in \u001b[0;36mJavaMember.__call__\u001b[1;34m(self, *args)\u001b[0m\n\u001b[0;32m   1356\u001b[0m command \u001b[38;5;241m=\u001b[39m proto\u001b[38;5;241m.\u001b[39mCALL_COMMAND_NAME \u001b[38;5;241m+\u001b[39m\\\n\u001b[0;32m   1357\u001b[0m     \u001b[38;5;28mself\u001b[39m\u001b[38;5;241m.\u001b[39mcommand_header \u001b[38;5;241m+\u001b[39m\\\n\u001b[0;32m   1358\u001b[0m     args_command \u001b[38;5;241m+\u001b[39m\\\n\u001b[0;32m   1359\u001b[0m     proto\u001b[38;5;241m.\u001b[39mEND_COMMAND_PART\n\u001b[0;32m   1361\u001b[0m answer \u001b[38;5;241m=\u001b[39m \u001b[38;5;28mself\u001b[39m\u001b[38;5;241m.\u001b[39mgateway_client\u001b[38;5;241m.\u001b[39msend_command(command)\n\u001b[1;32m-> 1362\u001b[0m return_value \u001b[38;5;241m=\u001b[39m get_return_value(\n\u001b[0;32m   1363\u001b[0m     answer, \u001b[38;5;28mself\u001b[39m\u001b[38;5;241m.\u001b[39mgateway_client, \u001b[38;5;28mself\u001b[39m\u001b[38;5;241m.\u001b[39mtarget_id, \u001b[38;5;28mself\u001b[39m\u001b[38;5;241m.\u001b[39mname)\n\u001b[0;32m   1365\u001b[0m \u001b[38;5;28;01mfor\u001b[39;00m temp_arg \u001b[38;5;129;01min\u001b[39;00m temp_args:\n\u001b[0;32m   1366\u001b[0m     \u001b[38;5;28;01mif\u001b[39;00m \u001b[38;5;28mhasattr\u001b[39m(temp_arg, \u001b[38;5;124m\"\u001b[39m\u001b[38;5;124m_detach\u001b[39m\u001b[38;5;124m\"\u001b[39m):\n",
      "File \u001b[1;32mC:\\spark-4.0.1-bin-hadoop3\\python\\pyspark\\errors\\exceptions\\captured.py:288\u001b[0m, in \u001b[0;36mcapture_sql_exception.<locals>.deco\u001b[1;34m(*a, **kw)\u001b[0m\n\u001b[0;32m    284\u001b[0m converted \u001b[38;5;241m=\u001b[39m convert_exception(e\u001b[38;5;241m.\u001b[39mjava_exception)\n\u001b[0;32m    285\u001b[0m \u001b[38;5;28;01mif\u001b[39;00m \u001b[38;5;129;01mnot\u001b[39;00m \u001b[38;5;28misinstance\u001b[39m(converted, UnknownException):\n\u001b[0;32m    286\u001b[0m     \u001b[38;5;66;03m# Hide where the exception came from that shows a non-Pythonic\u001b[39;00m\n\u001b[0;32m    287\u001b[0m     \u001b[38;5;66;03m# JVM exception message.\u001b[39;00m\n\u001b[1;32m--> 288\u001b[0m     \u001b[38;5;28;01mraise\u001b[39;00m converted \u001b[38;5;28;01mfrom\u001b[39;00m\u001b[38;5;250m \u001b[39m\u001b[38;5;28;01mNone\u001b[39;00m\n\u001b[0;32m    289\u001b[0m \u001b[38;5;28;01melse\u001b[39;00m:\n\u001b[0;32m    290\u001b[0m     \u001b[38;5;28;01mraise\u001b[39;00m\n",
      "\u001b[1;31mAnalysisException\u001b[0m: [UNRESOLVED_COLUMN.WITH_SUGGESTION] A column, variable, or function parameter with name `SNO` cannot be resolved. Did you mean one of the following? [`S.NO`, `DV`, `FL`, `PP`, `BEEE`]. SQLSTATE: 42703;\n'Project ['SNO, 'NAME, SECTION#100, Total#326, Average#327, Grade#328]\n+- Project [S.NO#17, SECTION#100, DV#320, M-II#321, PP#322, BEEE#323, FL#324, FIMS#325, DV_Grade#205, Total#326, Average#327, CASE WHEN (Average#327 >= cast(80 as double)) THEN A WHEN (Average#327 >= cast(60 as double)) THEN B WHEN (Average#327 >= cast(40 as double)) THEN C ELSE F END AS Grade#328]\n   +- Project [S.NO#17, SECTION#100, DV#320, M-II#321, PP#322, BEEE#323, FL#324, FIMS#325, DV_Grade#205, Total#326, (cast(Total#326 as double) / cast(6 as double)) AS Average#327, Grade#274]\n      +- Project [S.NO#17, SECTION#100, DV#320, M-II#321, PP#322, BEEE#323, FL#324, FIMS#325, DV_Grade#205, ((((((DV#320 + 0) + M-II#321) + PP#322) + BEEE#323) + FL#324) + FIMS#325) AS Total#326, Average#273, Grade#274]\n         +- Project [S.NO#17, SECTION#100, DV#320, M-II#321, PP#322, BEEE#323, FL#324, CASE WHEN RLIKE(cast(FIMS#271 as string), ^[0-9]+$) THEN cast(FIMS#271 as int) ELSE 0 END AS FIMS#325, DV_Grade#205, Total#272, Average#273, Grade#274]\n            +- Project [S.NO#17, SECTION#100, DV#320, M-II#321, PP#322, BEEE#323, CASE WHEN RLIKE(cast(FL#270 as string), ^[0-9]+$) THEN cast(FL#270 as int) ELSE 0 END AS FL#324, FIMS#271, DV_Grade#205, Total#272, Average#273, Grade#274]\n               +- Project [S.NO#17, SECTION#100, DV#320, M-II#321, PP#322, CASE WHEN RLIKE(cast(BEEE#269 as string), ^[0-9]+$) THEN cast(BEEE#269 as int) ELSE 0 END AS BEEE#323, FL#270, FIMS#271, DV_Grade#205, Total#272, Average#273, Grade#274]\n                  +- Project [S.NO#17, SECTION#100, DV#320, M-II#321, CASE WHEN RLIKE(cast(PP#268 as string), ^[0-9]+$) THEN cast(PP#268 as int) ELSE 0 END AS PP#322, BEEE#269, FL#270, FIMS#271, DV_Grade#205, Total#272, Average#273, Grade#274]\n                     +- Project [S.NO#17, SECTION#100, DV#320, CASE WHEN RLIKE(cast(M-II#267 as string), ^[0-9]+$) THEN cast(M-II#267 as int) ELSE 0 END AS M-II#321, PP#268, BEEE#269, FL#270, FIMS#271, DV_Grade#205, Total#272, Average#273, Grade#274]\n                        +- Project [S.NO#17, SECTION#100, CASE WHEN RLIKE(cast(DV#266 as string), ^[0-9]+$) THEN cast(DV#266 as int) ELSE 0 END AS DV#320, M-II#267, PP#268, BEEE#269, FL#270, FIMS#271, DV_Grade#205, Total#272, Average#273, Grade#274]\n                           +- Project [S.NO#17, SECTION#100, DV#266, M-II#267, PP#268, BEEE#269, FL#270, FIMS#271, DV_Grade#205, Total#272, Average#273, CASE WHEN (Average#273 >= cast(80 as double)) THEN A WHEN (Average#273 >= cast(60 as double)) THEN B WHEN (Average#273 >= cast(40 as double)) THEN C ELSE F END AS Grade#274]\n                              +- Project [S.NO#17, SECTION#100, DV#266, M-II#267, PP#268, BEEE#269, FL#270, FIMS#271, DV_Grade#205, Total#272, (cast(((((((DV#266 + 0) + M-II#267) + PP#268) + BEEE#269) + FL#270) + FIMS#271) as double) / cast(6 as double)) AS Average#273, Grade#259]\n                                 +- Project [S.NO#17, SECTION#100, DV#266, M-II#267, PP#268, BEEE#269, FL#270, FIMS#271, DV_Grade#205, ((((((DV#266 + 0) + M-II#267) + PP#268) + BEEE#269) + FL#270) + FIMS#271) AS Total#272, Average#258, Grade#259]\n                                    +- Project [S.NO#17, SECTION#100, DV#266, M-II#267, PP#268, BEEE#269, FL#270, cast(FIMS#265 as int) AS FIMS#271, DV_Grade#205, Total#257, Average#258, Grade#259]\n                                       +- Project [S.NO#17, SECTION#100, DV#266, M-II#267, PP#268, BEEE#269, cast(FL#264 as int) AS FL#270, FIMS#265, DV_Grade#205, Total#257, Average#258, Grade#259]\n                                          +- Project [S.NO#17, SECTION#100, DV#266, M-II#267, PP#268, cast(BEEE#263 as int) AS BEEE#269, FL#264, FIMS#265, DV_Grade#205, Total#257, Average#258, Grade#259]\n                                             +- Project [S.NO#17, SECTION#100, DV#266, M-II#267, cast(PP#262 as int) AS PP#268, BEEE#263, FL#264, FIMS#265, DV_Grade#205, Total#257, Average#258, Grade#259]\n                                                +- Project [S.NO#17, SECTION#100, DV#266, cast(M-II#261 as int) AS M-II#267, PP#262, BEEE#263, FL#264, FIMS#265, DV_Grade#205, Total#257, Average#258, Grade#259]\n                                                   +- Project [S.NO#17, SECTION#100, cast(DV#260 as int) AS DV#266, M-II#261, PP#262, BEEE#263, FL#264, FIMS#265, DV_Grade#205, Total#257, Average#258, Grade#259]\n                                                      +- Project [S.NO#17, SECTION#100, DV#260, M-II#261, PP#262, BEEE#263, FL#264, regexp_replace(cast(FIMS#256 as string), [^0-9], 0, 1) AS FIMS#265, DV_Grade#205, Total#257, Average#258, Grade#259]\n                                                         +- Project [S.NO#17, SECTION#100, DV#260, M-II#261, PP#262, BEEE#263, regexp_replace(cast(FL#255 as string), [^0-9], 0, 1) AS FL#264, FIMS#256, DV_Grade#205, Total#257, Average#258, Grade#259]\n                                                            +- Project [S.NO#17, SECTION#100, DV#260, M-II#261, PP#262, regexp_replace(cast(BEEE#254 as string), [^0-9], 0, 1) AS BEEE#263, FL#255, FIMS#256, DV_Grade#205, Total#257, Average#258, Grade#259]\n                                                               +- Project [S.NO#17, SECTION#100, DV#260, M-II#261, regexp_replace(cast(PP#253 as string), [^0-9], 0, 1) AS PP#262, BEEE#254, FL#255, FIMS#256, DV_Grade#205, Total#257, Average#258, Grade#259]\n                                                                  +- Project [S.NO#17, SECTION#100, DV#260, regexp_replace(cast(M-II#252 as string), [^0-9], 0, 1) AS M-II#261, PP#253, BEEE#254, FL#255, FIMS#256, DV_Grade#205, Total#257, Average#258, Grade#259]\n                                                                     +- Project [S.NO#17, SECTION#100, regexp_replace(cast(DV#251 as string), [^0-9], 0, 1) AS DV#260, M-II#252, PP#253, BEEE#254, FL#255, FIMS#256, DV_Grade#205, Total#257, Average#258, Grade#259]\n                                                                        +- Project [S.NO#17, SECTION#100, DV#251, M-II#252, PP#253, BEEE#254, FL#255, FIMS#256, DV_Grade#205, Total#257, Average#258, CASE WHEN (Average#258 >= cast(80 as double)) THEN A WHEN (Average#258 >= cast(60 as double)) THEN B WHEN (Average#258 >= cast(40 as double)) THEN C ELSE F END AS Grade#259]\n                                                                           +- Project [S.NO#17, SECTION#100, DV#251, M-II#252, PP#253, BEEE#254, FL#255, FIMS#256, DV_Grade#205, Total#257, (cast(Total#257 as double) / cast(6 as double)) AS Average#258, Grade#250]\n                                                                              +- Project [S.NO#17, SECTION#100, DV#251, M-II#252, PP#253, BEEE#254, FL#255, FIMS#256, DV_Grade#205, ((((((DV#251 + 0) + M-II#252) + PP#253) + BEEE#254) + FL#255) + FIMS#256) AS Total#257, Average#249, Grade#250]\n                                                                                 +- Project [S.NO#17, SECTION#100, DV#251, M-II#252, PP#253, BEEE#254, FL#255, CASE WHEN isnotnull(cast(FIMS#247 as int)) THEN cast(FIMS#247 as int) ELSE 0 END AS FIMS#256, DV_Grade#205, Total#248, Average#249, Grade#250]\n                                                                                    +- Project [S.NO#17, SECTION#100, DV#251, M-II#252, PP#253, BEEE#254, CASE WHEN isnotnull(cast(FL#246 as int)) THEN cast(FL#246 as int) ELSE 0 END AS FL#255, FIMS#247, DV_Grade#205, Total#248, Average#249, Grade#250]\n                                                                                       +- Project [S.NO#17, SECTION#100, DV#251, M-II#252, PP#253, CASE WHEN isnotnull(cast(BEEE#245 as int)) THEN cast(BEEE#245 as int) ELSE 0 END AS BEEE#254, FL#246, FIMS#247, DV_Grade#205, Total#248, Average#249, Grade#250]\n                                                                                          +- Project [S.NO#17, SECTION#100, DV#251, M-II#252, CASE WHEN isnotnull(cast(PP#244 as int)) THEN cast(PP#244 as int) ELSE 0 END AS PP#253, BEEE#245, FL#246, FIMS#247, DV_Grade#205, Total#248, Average#249, Grade#250]\n                                                                                             +- Project [S.NO#17, SECTION#100, DV#251, CASE WHEN isnotnull(cast(M-II#243 as int)) THEN cast(M-II#243 as int) ELSE 0 END AS M-II#252, PP#244, BEEE#245, FL#246, FIMS#247, DV_Grade#205, Total#248, Average#249, Grade#250]\n                                                                                                +- Project [S.NO#17, SECTION#100, CASE WHEN isnotnull(cast(DV#242 as int)) THEN cast(DV#242 as int) ELSE 0 END AS DV#251, M-II#243, PP#244, BEEE#245, FL#246, FIMS#247, DV_Grade#205, Total#248, Average#249, Grade#250]\n                                                                                                   +- Project [S.NO#17, SECTION#100, DV#242, M-II#243, PP#244, BEEE#245, FL#246, FIMS#247, DV_Grade#205, Total#248, Average#249, CASE WHEN (Average#249 >= cast(80 as double)) THEN A WHEN (Average#249 >= cast(60 as double)) THEN B WHEN (Average#249 >= cast(40 as double)) THEN C ELSE F END AS Grade#250]\n                                                                                                      +- Project [S.NO#17, SECTION#100, DV#242, M-II#243, PP#244, BEEE#245, FL#246, FIMS#247, DV_Grade#205, Total#248, (cast(Total#248 as double) / cast(6 as double)) AS Average#249]\n                                                                                                         +- Project [S.NO#17, SECTION#100, DV#242, M-II#243, PP#244, BEEE#245, FL#246, FIMS#247, DV_Grade#205, ((((((DV#242 + 0) + M-II#243) + PP#244) + BEEE#245) + FL#246) + FIMS#247) AS Total#248]\n                                                                                                            +- Project [S.NO#17, SECTION#100, DV#242, M-II#243, PP#244, BEEE#245, FL#246, CASE WHEN isnotnull(cast(FIMS#24 as int)) THEN cast(FIMS#24 as int) ELSE 0 END AS FIMS#247, DV_Grade#205]\n                                                                                                               +- Project [S.NO#17, SECTION#100, DV#242, M-II#243, PP#244, BEEE#245, CASE WHEN isnotnull(cast(FL#23 as int)) THEN cast(FL#23 as int) ELSE 0 END AS FL#246, FIMS#24, DV_Grade#205]\n                                                                                                                  +- Project [S.NO#17, SECTION#100, DV#242, M-II#243, PP#244, CASE WHEN isnotnull(cast(BEEE#22 as int)) THEN cast(BEEE#22 as int) ELSE 0 END AS BEEE#245, FL#23, FIMS#24, DV_Grade#205]\n                                                                                                                     +- Project [S.NO#17, SECTION#100, DV#242, M-II#243, CASE WHEN isnotnull(cast(PP#21 as int)) THEN cast(PP#21 as int) ELSE 0 END AS PP#244, BEEE#22, FL#23, FIMS#24, DV_Grade#205]\n                                                                                                                        +- Project [S.NO#17, SECTION#100, DV#242, CASE WHEN isnotnull(cast(M-II#20 as int)) THEN cast(M-II#20 as int) ELSE 0 END AS M-II#243, PP#21, BEEE#22, FL#23, FIMS#24, DV_Grade#205]\n                                                                                                                           +- Project [S.NO#17, SECTION#100, CASE WHEN isnotnull(cast(DV#164L as int)) THEN cast(DV#164L as int) ELSE 0 END AS DV#242, M-II#20, PP#21, BEEE#22, FL#23, FIMS#24, DV_Grade#205]\n                                                                                                                              +- Project [S.NO#17, SECTION#100, DV#164L, M-II#20, PP#21, BEEE#22, FL#23, FIMS#24, CASE WHEN (DV#164L >= cast(80 as bigint)) THEN A WHEN (DV#164L >= cast(60 as bigint)) THEN B WHEN (DV#164L >= cast(40 as bigint)) THEN C ELSE F END AS DV_Grade#205]\n                                                                                                                                 +- Project [S.NO#17, SECTION#100, CASE WHEN (DV#163L = cast(A as bigint)) THEN cast(0 as bigint) ELSE DV#163L END AS DV#164L, M-II#20, PP#21, BEEE#22, FL#23, FIMS#24]\n                                                                                                                                    +- Project [S.NO#17, SECTION#100, CASE WHEN (DV#142 = A) THEN cast(0 as bigint) ELSE cast(DV#142 as bigint) END AS DV#163L, M-II#20, PP#21, BEEE#22, FL#23, FIMS#24]\n                                                                                                                                       +- Project [S.NO#17, SECTION#100, coalesce(DV#141, cast(0 as string)) AS DV#142, M-II#20, PP#21, BEEE#22, FL#23, FIMS#24]\n                                                                                                                                          +- Project [S.NO#17, SECTION#100, coalesce(DV#19, cast(0 as string)) AS DV#141, M-II#20, PP#21, BEEE#22, FL#23, FIMS#24]\n                                                                                                                                             +- Project [S.NO#17, CASE WHEN (SECTION#79 = GAMA) THEN GAMMA WHEN (SECTION#79 = SGMA) THEN SIGMA ELSE SECTION#79 END AS SECTION#100, DV#19, M-II#20, PP#21, BEEE#22, FL#23, FIMS#24]\n                                                                                                                                                +- Project [S.NO#17, coalesce(SECTION#18, cast(ZETA as string)) AS SECTION#79, DV#19, M-II#20, PP#21, BEEE#22, FL#23, FIMS#24]\n                                                                                                                                                   +- Relation [S.NO#17,SECTION#18,DV#19,M-II#20,PP#21,BEEE#22,FL#23,FIMS#24] csv\n"
     ]
    }
   ],
   "source": [
    "from pyspark.sql.functions import col, when\n",
    "\n",
    "subjects = [\"DV\",\"M-II\",\"PP\",\"BEEE\",\"FL\",\"FIMS\"]\n",
    "\n",
    "# Step 1: Force all junk (like 'A', 'AB', 'o') to 0\n",
    "for subj in subjects:\n",
    "    data = data.withColumn(subj, when(col(subj).rlike(\"^[0-9]+$\"), col(subj).cast(\"int\")).otherwise(0))\n",
    "\n",
    "# Step 2: Total and Average\n",
    "data = data.withColumn(\"Total\", sum(col(c) for c in subjects))\n",
    "data = data.withColumn(\"Average\", col(\"Total\") / len(subjects))\n",
    "\n",
    "# Step 3: Grade\n",
    "data = data.withColumn(\n",
    "    \"Grade\",\n",
    "    when(col(\"Average\") >= 80, \"A\")\n",
    "    .when(col(\"Average\") >= 60, \"B\")\n",
    "    .when(col(\"Average\") >= 40, \"C\")\n",
    "    .otherwise(\"F\")\n",
    ")\n",
    "\n",
    "data.select(\"SNO\",\"NAME\",\"SECTION\",\"Total\",\"Average\",\"Grade\").show()\n"
   ]
  },
  {
   "cell_type": "code",
   "execution_count": null,
   "id": "ea0cda88-c9f5-4acb-9d66-c799c030e2db",
   "metadata": {},
   "outputs": [],
   "source": []
  }
 ],
 "metadata": {
  "kernelspec": {
   "display_name": "Python 3 (ipykernel)",
   "language": "python",
   "name": "python3"
  },
  "language_info": {
   "codemirror_mode": {
    "name": "ipython",
    "version": 3
   },
   "file_extension": ".py",
   "mimetype": "text/x-python",
   "name": "python",
   "nbconvert_exporter": "python",
   "pygments_lexer": "ipython3",
   "version": "3.13.5"
  }
 },
 "nbformat": 4,
 "nbformat_minor": 5
}
